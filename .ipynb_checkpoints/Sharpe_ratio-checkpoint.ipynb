{
 "cells": [
  {
   "cell_type": "markdown",
   "metadata": {},
   "source": [
    "# Prediction of Sharpe ratio for blends of quantitative srategies"
   ]
  },
  {
   "cell_type": "code",
   "execution_count": 77,
   "metadata": {},
   "outputs": [],
   "source": [
    "import pandas as pd\n",
    "import matplotlib.pyplot as plt\n",
    "import seaborn as sns\n",
    "import numpy as np\n",
    "import warnings\n",
    "warnings.filterwarnings(\"ignore\")"
   ]
  },
  {
   "cell_type": "code",
   "execution_count": 6,
   "metadata": {},
   "outputs": [],
   "source": [
    "data = pd.read_csv(\"Data/Training_Input_2dx8C9Q.csv\")\n",
    "target = pd.read_csv(\"Data/Training_Output_IJhBXtA.csv\")"
   ]
  },
  {
   "cell_type": "code",
   "execution_count": 7,
   "metadata": {},
   "outputs": [],
   "source": [
    "test = pd.read_csv(\"Data/Testing_Input_dPKY3Rf.csv\")"
   ]
  },
  {
   "cell_type": "code",
   "execution_count": 8,
   "metadata": {},
   "outputs": [
    {
     "data": {
      "text/plain": [
       "(10000, 218)"
      ]
     },
     "execution_count": 8,
     "metadata": {},
     "output_type": "execute_result"
    }
   ],
   "source": [
    "data.shape"
   ]
  },
  {
   "cell_type": "code",
   "execution_count": 9,
   "metadata": {},
   "outputs": [
    {
     "data": {
      "text/plain": [
       "(10000, 2)"
      ]
     },
     "execution_count": 9,
     "metadata": {},
     "output_type": "execute_result"
    }
   ],
   "source": [
    "target.shape"
   ]
  },
  {
   "cell_type": "code",
   "execution_count": 10,
   "metadata": {},
   "outputs": [
    {
     "data": {
      "text/plain": [
       "(4450, 218)"
      ]
     },
     "execution_count": 10,
     "metadata": {},
     "output_type": "execute_result"
    }
   ],
   "source": [
    "test.shape"
   ]
  },
  {
   "cell_type": "code",
   "execution_count": 11,
   "metadata": {},
   "outputs": [],
   "source": [
    "data = data.set_index(\"ID\")\n",
    "target = target.set_index(\"ID\")"
   ]
  },
  {
   "cell_type": "code",
   "execution_count": 12,
   "metadata": {
    "scrolled": true
   },
   "outputs": [
    {
     "data": {
      "text/html": [
       "<div>\n",
       "<style scoped>\n",
       "    .dataframe tbody tr th:only-of-type {\n",
       "        vertical-align: middle;\n",
       "    }\n",
       "\n",
       "    .dataframe tbody tr th {\n",
       "        vertical-align: top;\n",
       "    }\n",
       "\n",
       "    .dataframe thead th {\n",
       "        text-align: right;\n",
       "    }\n",
       "</style>\n",
       "<table border=\"1\" class=\"dataframe\">\n",
       "  <thead>\n",
       "    <tr style=\"text-align: right;\">\n",
       "      <th></th>\n",
       "      <th>weight_I_1</th>\n",
       "      <th>weight_I_2</th>\n",
       "      <th>weight_I_3</th>\n",
       "      <th>weight_I_4</th>\n",
       "      <th>weight_I_5</th>\n",
       "      <th>weight_I_6</th>\n",
       "      <th>weight_I_7</th>\n",
       "      <th>I_1_lag_20</th>\n",
       "      <th>I_1_lag_19</th>\n",
       "      <th>I_1_lag_18</th>\n",
       "      <th>...</th>\n",
       "      <th>X_3_lag_9</th>\n",
       "      <th>X_3_lag_8</th>\n",
       "      <th>X_3_lag_7</th>\n",
       "      <th>X_3_lag_6</th>\n",
       "      <th>X_3_lag_5</th>\n",
       "      <th>X_3_lag_4</th>\n",
       "      <th>X_3_lag_3</th>\n",
       "      <th>X_3_lag_2</th>\n",
       "      <th>X_3_lag_1</th>\n",
       "      <th>X_3_lag_0</th>\n",
       "    </tr>\n",
       "    <tr>\n",
       "      <th>ID</th>\n",
       "      <th></th>\n",
       "      <th></th>\n",
       "      <th></th>\n",
       "      <th></th>\n",
       "      <th></th>\n",
       "      <th></th>\n",
       "      <th></th>\n",
       "      <th></th>\n",
       "      <th></th>\n",
       "      <th></th>\n",
       "      <th></th>\n",
       "      <th></th>\n",
       "      <th></th>\n",
       "      <th></th>\n",
       "      <th></th>\n",
       "      <th></th>\n",
       "      <th></th>\n",
       "      <th></th>\n",
       "      <th></th>\n",
       "      <th></th>\n",
       "      <th></th>\n",
       "    </tr>\n",
       "  </thead>\n",
       "  <tbody>\n",
       "    <tr>\n",
       "      <th>0</th>\n",
       "      <td>0.15</td>\n",
       "      <td>0.00</td>\n",
       "      <td>0.05</td>\n",
       "      <td>0.80</td>\n",
       "      <td>0.00</td>\n",
       "      <td>0.0</td>\n",
       "      <td>0.00</td>\n",
       "      <td>100.0</td>\n",
       "      <td>100.047398</td>\n",
       "      <td>100.058480</td>\n",
       "      <td>...</td>\n",
       "      <td>101.383783</td>\n",
       "      <td>102.054669</td>\n",
       "      <td>102.375596</td>\n",
       "      <td>103.148605</td>\n",
       "      <td>103.148605</td>\n",
       "      <td>103.046483</td>\n",
       "      <td>103.075701</td>\n",
       "      <td>103.134043</td>\n",
       "      <td>103.221509</td>\n",
       "      <td>103.338192</td>\n",
       "    </tr>\n",
       "    <tr>\n",
       "      <th>1</th>\n",
       "      <td>0.00</td>\n",
       "      <td>0.00</td>\n",
       "      <td>0.00</td>\n",
       "      <td>0.40</td>\n",
       "      <td>0.25</td>\n",
       "      <td>0.0</td>\n",
       "      <td>0.35</td>\n",
       "      <td>100.0</td>\n",
       "      <td>99.912339</td>\n",
       "      <td>99.960558</td>\n",
       "      <td>...</td>\n",
       "      <td>100.911142</td>\n",
       "      <td>100.938707</td>\n",
       "      <td>100.993926</td>\n",
       "      <td>101.132016</td>\n",
       "      <td>100.745489</td>\n",
       "      <td>100.524617</td>\n",
       "      <td>100.303743</td>\n",
       "      <td>100.276090</td>\n",
       "      <td>100.303743</td>\n",
       "      <td>100.554527</td>\n",
       "    </tr>\n",
       "    <tr>\n",
       "      <th>2</th>\n",
       "      <td>0.85</td>\n",
       "      <td>0.00</td>\n",
       "      <td>0.00</td>\n",
       "      <td>0.15</td>\n",
       "      <td>0.00</td>\n",
       "      <td>0.0</td>\n",
       "      <td>0.00</td>\n",
       "      <td>100.0</td>\n",
       "      <td>99.481681</td>\n",
       "      <td>100.199593</td>\n",
       "      <td>...</td>\n",
       "      <td>100.373084</td>\n",
       "      <td>100.581716</td>\n",
       "      <td>100.313489</td>\n",
       "      <td>100.790251</td>\n",
       "      <td>101.013756</td>\n",
       "      <td>100.686030</td>\n",
       "      <td>100.686030</td>\n",
       "      <td>100.060233</td>\n",
       "      <td>99.747384</td>\n",
       "      <td>99.970889</td>\n",
       "    </tr>\n",
       "    <tr>\n",
       "      <th>3</th>\n",
       "      <td>0.00</td>\n",
       "      <td>0.00</td>\n",
       "      <td>0.70</td>\n",
       "      <td>0.05</td>\n",
       "      <td>0.25</td>\n",
       "      <td>0.0</td>\n",
       "      <td>0.00</td>\n",
       "      <td>100.0</td>\n",
       "      <td>100.124618</td>\n",
       "      <td>100.023384</td>\n",
       "      <td>...</td>\n",
       "      <td>100.844136</td>\n",
       "      <td>101.040072</td>\n",
       "      <td>101.055122</td>\n",
       "      <td>101.567682</td>\n",
       "      <td>101.703322</td>\n",
       "      <td>101.974603</td>\n",
       "      <td>101.733422</td>\n",
       "      <td>101.838963</td>\n",
       "      <td>102.080144</td>\n",
       "      <td>101.688272</td>\n",
       "    </tr>\n",
       "    <tr>\n",
       "      <th>4</th>\n",
       "      <td>0.00</td>\n",
       "      <td>0.55</td>\n",
       "      <td>0.05</td>\n",
       "      <td>0.00</td>\n",
       "      <td>0.00</td>\n",
       "      <td>0.0</td>\n",
       "      <td>0.40</td>\n",
       "      <td>100.0</td>\n",
       "      <td>100.000000</td>\n",
       "      <td>99.407717</td>\n",
       "      <td>...</td>\n",
       "      <td>99.665093</td>\n",
       "      <td>99.482389</td>\n",
       "      <td>99.604192</td>\n",
       "      <td>100.030499</td>\n",
       "      <td>99.847797</td>\n",
       "      <td>100.426310</td>\n",
       "      <td>100.426310</td>\n",
       "      <td>100.822217</td>\n",
       "      <td>100.913521</td>\n",
       "      <td>100.852619</td>\n",
       "    </tr>\n",
       "  </tbody>\n",
       "</table>\n",
       "<p>5 rows × 217 columns</p>\n",
       "</div>"
      ],
      "text/plain": [
       "    weight_I_1  weight_I_2  weight_I_3  weight_I_4  weight_I_5  weight_I_6  \\\n",
       "ID                                                                           \n",
       "0         0.15        0.00        0.05        0.80        0.00         0.0   \n",
       "1         0.00        0.00        0.00        0.40        0.25         0.0   \n",
       "2         0.85        0.00        0.00        0.15        0.00         0.0   \n",
       "3         0.00        0.00        0.70        0.05        0.25         0.0   \n",
       "4         0.00        0.55        0.05        0.00        0.00         0.0   \n",
       "\n",
       "    weight_I_7  I_1_lag_20  I_1_lag_19  I_1_lag_18  ...   X_3_lag_9  \\\n",
       "ID                                                  ...               \n",
       "0         0.00       100.0  100.047398  100.058480  ...  101.383783   \n",
       "1         0.35       100.0   99.912339   99.960558  ...  100.911142   \n",
       "2         0.00       100.0   99.481681  100.199593  ...  100.373084   \n",
       "3         0.00       100.0  100.124618  100.023384  ...  100.844136   \n",
       "4         0.40       100.0  100.000000   99.407717  ...   99.665093   \n",
       "\n",
       "     X_3_lag_8   X_3_lag_7   X_3_lag_6   X_3_lag_5   X_3_lag_4   X_3_lag_3  \\\n",
       "ID                                                                           \n",
       "0   102.054669  102.375596  103.148605  103.148605  103.046483  103.075701   \n",
       "1   100.938707  100.993926  101.132016  100.745489  100.524617  100.303743   \n",
       "2   100.581716  100.313489  100.790251  101.013756  100.686030  100.686030   \n",
       "3   101.040072  101.055122  101.567682  101.703322  101.974603  101.733422   \n",
       "4    99.482389   99.604192  100.030499   99.847797  100.426310  100.426310   \n",
       "\n",
       "     X_3_lag_2   X_3_lag_1   X_3_lag_0  \n",
       "ID                                      \n",
       "0   103.134043  103.221509  103.338192  \n",
       "1   100.276090  100.303743  100.554527  \n",
       "2   100.060233   99.747384   99.970889  \n",
       "3   101.838963  102.080144  101.688272  \n",
       "4   100.822217  100.913521  100.852619  \n",
       "\n",
       "[5 rows x 217 columns]"
      ]
     },
     "execution_count": 12,
     "metadata": {},
     "output_type": "execute_result"
    }
   ],
   "source": [
    "data.head()"
   ]
  },
  {
   "cell_type": "code",
   "execution_count": 13,
   "metadata": {},
   "outputs": [
    {
     "name": "stdout",
     "output_type": "stream",
     "text": [
      "<class 'pandas.core.frame.DataFrame'>\n",
      "Int64Index: 10000 entries, 0 to 9999\n",
      "Columns: 217 entries, weight_I_1 to X_3_lag_0\n",
      "dtypes: float64(217)\n",
      "memory usage: 16.6 MB\n"
     ]
    }
   ],
   "source": [
    "data.info()"
   ]
  },
  {
   "cell_type": "code",
   "execution_count": 14,
   "metadata": {},
   "outputs": [
    {
     "data": {
      "text/html": [
       "<div>\n",
       "<style scoped>\n",
       "    .dataframe tbody tr th:only-of-type {\n",
       "        vertical-align: middle;\n",
       "    }\n",
       "\n",
       "    .dataframe tbody tr th {\n",
       "        vertical-align: top;\n",
       "    }\n",
       "\n",
       "    .dataframe thead th {\n",
       "        text-align: right;\n",
       "    }\n",
       "</style>\n",
       "<table border=\"1\" class=\"dataframe\">\n",
       "  <thead>\n",
       "    <tr style=\"text-align: right;\">\n",
       "      <th></th>\n",
       "      <th>Target</th>\n",
       "    </tr>\n",
       "    <tr>\n",
       "      <th>ID</th>\n",
       "      <th></th>\n",
       "    </tr>\n",
       "  </thead>\n",
       "  <tbody>\n",
       "    <tr>\n",
       "      <th>0</th>\n",
       "      <td>-12.007941</td>\n",
       "    </tr>\n",
       "    <tr>\n",
       "      <th>1</th>\n",
       "      <td>2.294867</td>\n",
       "    </tr>\n",
       "    <tr>\n",
       "      <th>2</th>\n",
       "      <td>0.652308</td>\n",
       "    </tr>\n",
       "    <tr>\n",
       "      <th>3</th>\n",
       "      <td>2.412364</td>\n",
       "    </tr>\n",
       "    <tr>\n",
       "      <th>4</th>\n",
       "      <td>8.517471</td>\n",
       "    </tr>\n",
       "  </tbody>\n",
       "</table>\n",
       "</div>"
      ],
      "text/plain": [
       "       Target\n",
       "ID           \n",
       "0  -12.007941\n",
       "1    2.294867\n",
       "2    0.652308\n",
       "3    2.412364\n",
       "4    8.517471"
      ]
     },
     "execution_count": 14,
     "metadata": {},
     "output_type": "execute_result"
    }
   ],
   "source": [
    "target.head()"
   ]
  },
  {
   "cell_type": "code",
   "execution_count": 15,
   "metadata": {},
   "outputs": [
    {
     "name": "stdout",
     "output_type": "stream",
     "text": [
      "<class 'pandas.core.frame.DataFrame'>\n",
      "Int64Index: 10000 entries, 0 to 9999\n",
      "Data columns (total 1 columns):\n",
      " #   Column  Non-Null Count  Dtype  \n",
      "---  ------  --------------  -----  \n",
      " 0   Target  10000 non-null  float64\n",
      "dtypes: float64(1)\n",
      "memory usage: 156.2 KB\n"
     ]
    }
   ],
   "source": [
    "target.info()"
   ]
  },
  {
   "cell_type": "code",
   "execution_count": 16,
   "metadata": {},
   "outputs": [
    {
     "data": {
      "text/html": [
       "<div>\n",
       "<style scoped>\n",
       "    .dataframe tbody tr th:only-of-type {\n",
       "        vertical-align: middle;\n",
       "    }\n",
       "\n",
       "    .dataframe tbody tr th {\n",
       "        vertical-align: top;\n",
       "    }\n",
       "\n",
       "    .dataframe thead th {\n",
       "        text-align: right;\n",
       "    }\n",
       "</style>\n",
       "<table border=\"1\" class=\"dataframe\">\n",
       "  <thead>\n",
       "    <tr style=\"text-align: right;\">\n",
       "      <th></th>\n",
       "      <th>ID</th>\n",
       "      <th>weight_I_1</th>\n",
       "      <th>weight_I_2</th>\n",
       "      <th>weight_I_3</th>\n",
       "      <th>weight_I_4</th>\n",
       "      <th>weight_I_5</th>\n",
       "      <th>weight_I_6</th>\n",
       "      <th>weight_I_7</th>\n",
       "      <th>I_1_lag_20</th>\n",
       "      <th>I_1_lag_19</th>\n",
       "      <th>...</th>\n",
       "      <th>X_3_lag_9</th>\n",
       "      <th>X_3_lag_8</th>\n",
       "      <th>X_3_lag_7</th>\n",
       "      <th>X_3_lag_6</th>\n",
       "      <th>X_3_lag_5</th>\n",
       "      <th>X_3_lag_4</th>\n",
       "      <th>X_3_lag_3</th>\n",
       "      <th>X_3_lag_2</th>\n",
       "      <th>X_3_lag_1</th>\n",
       "      <th>X_3_lag_0</th>\n",
       "    </tr>\n",
       "  </thead>\n",
       "  <tbody>\n",
       "    <tr>\n",
       "      <th>0</th>\n",
       "      <td>10000</td>\n",
       "      <td>0.0</td>\n",
       "      <td>0.4</td>\n",
       "      <td>0.0</td>\n",
       "      <td>0.60</td>\n",
       "      <td>0.00</td>\n",
       "      <td>0.00</td>\n",
       "      <td>0.0</td>\n",
       "      <td>100.0</td>\n",
       "      <td>100.035108</td>\n",
       "      <td>...</td>\n",
       "      <td>99.476884</td>\n",
       "      <td>99.385263</td>\n",
       "      <td>99.503013</td>\n",
       "      <td>98.927246</td>\n",
       "      <td>98.704811</td>\n",
       "      <td>98.547784</td>\n",
       "      <td>98.573913</td>\n",
       "      <td>98.665534</td>\n",
       "      <td>98.613191</td>\n",
       "      <td>99.149680</td>\n",
       "    </tr>\n",
       "    <tr>\n",
       "      <th>1</th>\n",
       "      <td>10001</td>\n",
       "      <td>0.3</td>\n",
       "      <td>0.0</td>\n",
       "      <td>0.2</td>\n",
       "      <td>0.50</td>\n",
       "      <td>0.00</td>\n",
       "      <td>0.00</td>\n",
       "      <td>0.0</td>\n",
       "      <td>100.0</td>\n",
       "      <td>99.396127</td>\n",
       "      <td>...</td>\n",
       "      <td>101.381133</td>\n",
       "      <td>101.480672</td>\n",
       "      <td>101.194476</td>\n",
       "      <td>101.306518</td>\n",
       "      <td>100.871012</td>\n",
       "      <td>100.522624</td>\n",
       "      <td>101.045166</td>\n",
       "      <td>101.157209</td>\n",
       "      <td>101.169631</td>\n",
       "      <td>100.846088</td>\n",
       "    </tr>\n",
       "    <tr>\n",
       "      <th>2</th>\n",
       "      <td>10002</td>\n",
       "      <td>0.0</td>\n",
       "      <td>0.2</td>\n",
       "      <td>0.0</td>\n",
       "      <td>0.80</td>\n",
       "      <td>0.00</td>\n",
       "      <td>0.00</td>\n",
       "      <td>0.0</td>\n",
       "      <td>100.0</td>\n",
       "      <td>101.592811</td>\n",
       "      <td>...</td>\n",
       "      <td>99.206743</td>\n",
       "      <td>99.020803</td>\n",
       "      <td>99.008428</td>\n",
       "      <td>99.095210</td>\n",
       "      <td>99.529043</td>\n",
       "      <td>99.516588</td>\n",
       "      <td>99.590996</td>\n",
       "      <td>100.285096</td>\n",
       "      <td>100.173565</td>\n",
       "      <td>100.099157</td>\n",
       "    </tr>\n",
       "    <tr>\n",
       "      <th>3</th>\n",
       "      <td>10003</td>\n",
       "      <td>0.0</td>\n",
       "      <td>0.0</td>\n",
       "      <td>0.0</td>\n",
       "      <td>0.05</td>\n",
       "      <td>0.85</td>\n",
       "      <td>0.00</td>\n",
       "      <td>0.1</td>\n",
       "      <td>100.0</td>\n",
       "      <td>99.732372</td>\n",
       "      <td>...</td>\n",
       "      <td>99.865944</td>\n",
       "      <td>98.839654</td>\n",
       "      <td>98.211795</td>\n",
       "      <td>97.571802</td>\n",
       "      <td>97.330318</td>\n",
       "      <td>97.137131</td>\n",
       "      <td>97.487341</td>\n",
       "      <td>97.861584</td>\n",
       "      <td>97.801232</td>\n",
       "      <td>97.777122</td>\n",
       "    </tr>\n",
       "    <tr>\n",
       "      <th>4</th>\n",
       "      <td>10004</td>\n",
       "      <td>0.0</td>\n",
       "      <td>0.0</td>\n",
       "      <td>0.0</td>\n",
       "      <td>0.10</td>\n",
       "      <td>0.45</td>\n",
       "      <td>0.45</td>\n",
       "      <td>0.0</td>\n",
       "      <td>100.0</td>\n",
       "      <td>99.962739</td>\n",
       "      <td>...</td>\n",
       "      <td>98.067865</td>\n",
       "      <td>98.188662</td>\n",
       "      <td>98.140360</td>\n",
       "      <td>98.454292</td>\n",
       "      <td>98.949460</td>\n",
       "      <td>98.442236</td>\n",
       "      <td>98.176606</td>\n",
       "      <td>98.357686</td>\n",
       "      <td>98.707943</td>\n",
       "      <td>98.369820</td>\n",
       "    </tr>\n",
       "  </tbody>\n",
       "</table>\n",
       "<p>5 rows × 218 columns</p>\n",
       "</div>"
      ],
      "text/plain": [
       "      ID  weight_I_1  weight_I_2  weight_I_3  weight_I_4  weight_I_5  \\\n",
       "0  10000         0.0         0.4         0.0        0.60        0.00   \n",
       "1  10001         0.3         0.0         0.2        0.50        0.00   \n",
       "2  10002         0.0         0.2         0.0        0.80        0.00   \n",
       "3  10003         0.0         0.0         0.0        0.05        0.85   \n",
       "4  10004         0.0         0.0         0.0        0.10        0.45   \n",
       "\n",
       "   weight_I_6  weight_I_7  I_1_lag_20  I_1_lag_19  ...   X_3_lag_9  \\\n",
       "0        0.00         0.0       100.0  100.035108  ...   99.476884   \n",
       "1        0.00         0.0       100.0   99.396127  ...  101.381133   \n",
       "2        0.00         0.0       100.0  101.592811  ...   99.206743   \n",
       "3        0.00         0.1       100.0   99.732372  ...   99.865944   \n",
       "4        0.45         0.0       100.0   99.962739  ...   98.067865   \n",
       "\n",
       "    X_3_lag_8   X_3_lag_7   X_3_lag_6   X_3_lag_5   X_3_lag_4   X_3_lag_3  \\\n",
       "0   99.385263   99.503013   98.927246   98.704811   98.547784   98.573913   \n",
       "1  101.480672  101.194476  101.306518  100.871012  100.522624  101.045166   \n",
       "2   99.020803   99.008428   99.095210   99.529043   99.516588   99.590996   \n",
       "3   98.839654   98.211795   97.571802   97.330318   97.137131   97.487341   \n",
       "4   98.188662   98.140360   98.454292   98.949460   98.442236   98.176606   \n",
       "\n",
       "    X_3_lag_2   X_3_lag_1   X_3_lag_0  \n",
       "0   98.665534   98.613191   99.149680  \n",
       "1  101.157209  101.169631  100.846088  \n",
       "2  100.285096  100.173565  100.099157  \n",
       "3   97.861584   97.801232   97.777122  \n",
       "4   98.357686   98.707943   98.369820  \n",
       "\n",
       "[5 rows x 218 columns]"
      ]
     },
     "execution_count": 16,
     "metadata": {},
     "output_type": "execute_result"
    }
   ],
   "source": [
    "test.head()"
   ]
  },
  {
   "cell_type": "code",
   "execution_count": 17,
   "metadata": {},
   "outputs": [
    {
     "name": "stdout",
     "output_type": "stream",
     "text": [
      "<class 'pandas.core.frame.DataFrame'>\n",
      "RangeIndex: 4450 entries, 0 to 4449\n",
      "Columns: 218 entries, ID to X_3_lag_0\n",
      "dtypes: float64(217), int64(1)\n",
      "memory usage: 7.4 MB\n"
     ]
    }
   ],
   "source": [
    "test.info()"
   ]
  },
  {
   "cell_type": "code",
   "execution_count": 18,
   "metadata": {},
   "outputs": [
    {
     "name": "stdout",
     "output_type": "stream",
     "text": [
      "False False False\n"
     ]
    }
   ],
   "source": [
    "# Missing values ?\n",
    "print(True in data.isna(), True in target.isna(), True in test.isna())"
   ]
  },
  {
   "cell_type": "code",
   "execution_count": 19,
   "metadata": {},
   "outputs": [
    {
     "name": "stdout",
     "output_type": "stream",
     "text": [
      "weight_I_1\n",
      "weight_I_2\n",
      "weight_I_3\n",
      "weight_I_4\n",
      "weight_I_5\n",
      "weight_I_6\n",
      "weight_I_7\n",
      "I_1_lag_20\n",
      "I_1_lag_19\n",
      "I_1_lag_18\n",
      "I_1_lag_17\n",
      "I_1_lag_16\n",
      "I_1_lag_15\n",
      "I_1_lag_14\n",
      "I_1_lag_13\n",
      "I_1_lag_12\n",
      "I_1_lag_11\n",
      "I_1_lag_10\n",
      "I_1_lag_9\n",
      "I_1_lag_8\n",
      "I_1_lag_7\n",
      "I_1_lag_6\n",
      "I_1_lag_5\n",
      "I_1_lag_4\n",
      "I_1_lag_3\n",
      "I_1_lag_2\n",
      "I_1_lag_1\n",
      "I_1_lag_0\n",
      "I_2_lag_20\n",
      "I_2_lag_19\n",
      "I_2_lag_18\n",
      "I_2_lag_17\n",
      "I_2_lag_16\n",
      "I_2_lag_15\n",
      "I_2_lag_14\n",
      "I_2_lag_13\n",
      "I_2_lag_12\n",
      "I_2_lag_11\n",
      "I_2_lag_10\n",
      "I_2_lag_9\n",
      "I_2_lag_8\n",
      "I_2_lag_7\n",
      "I_2_lag_6\n",
      "I_2_lag_5\n",
      "I_2_lag_4\n",
      "I_2_lag_3\n",
      "I_2_lag_2\n",
      "I_2_lag_1\n",
      "I_2_lag_0\n",
      "I_3_lag_20\n",
      "I_3_lag_19\n",
      "I_3_lag_18\n",
      "I_3_lag_17\n",
      "I_3_lag_16\n",
      "I_3_lag_15\n",
      "I_3_lag_14\n",
      "I_3_lag_13\n",
      "I_3_lag_12\n",
      "I_3_lag_11\n",
      "I_3_lag_10\n",
      "I_3_lag_9\n",
      "I_3_lag_8\n",
      "I_3_lag_7\n",
      "I_3_lag_6\n",
      "I_3_lag_5\n",
      "I_3_lag_4\n",
      "I_3_lag_3\n",
      "I_3_lag_2\n",
      "I_3_lag_1\n",
      "I_3_lag_0\n",
      "I_4_lag_20\n",
      "I_4_lag_19\n",
      "I_4_lag_18\n",
      "I_4_lag_17\n",
      "I_4_lag_16\n",
      "I_4_lag_15\n",
      "I_4_lag_14\n",
      "I_4_lag_13\n",
      "I_4_lag_12\n",
      "I_4_lag_11\n",
      "I_4_lag_10\n",
      "I_4_lag_9\n",
      "I_4_lag_8\n",
      "I_4_lag_7\n",
      "I_4_lag_6\n",
      "I_4_lag_5\n",
      "I_4_lag_4\n",
      "I_4_lag_3\n",
      "I_4_lag_2\n",
      "I_4_lag_1\n",
      "I_4_lag_0\n",
      "I_5_lag_20\n",
      "I_5_lag_19\n",
      "I_5_lag_18\n",
      "I_5_lag_17\n",
      "I_5_lag_16\n",
      "I_5_lag_15\n",
      "I_5_lag_14\n",
      "I_5_lag_13\n",
      "I_5_lag_12\n",
      "I_5_lag_11\n",
      "I_5_lag_10\n",
      "I_5_lag_9\n",
      "I_5_lag_8\n",
      "I_5_lag_7\n",
      "I_5_lag_6\n",
      "I_5_lag_5\n",
      "I_5_lag_4\n",
      "I_5_lag_3\n",
      "I_5_lag_2\n",
      "I_5_lag_1\n",
      "I_5_lag_0\n",
      "I_6_lag_20\n",
      "I_6_lag_19\n",
      "I_6_lag_18\n",
      "I_6_lag_17\n",
      "I_6_lag_16\n",
      "I_6_lag_15\n",
      "I_6_lag_14\n",
      "I_6_lag_13\n",
      "I_6_lag_12\n",
      "I_6_lag_11\n",
      "I_6_lag_10\n",
      "I_6_lag_9\n",
      "I_6_lag_8\n",
      "I_6_lag_7\n",
      "I_6_lag_6\n",
      "I_6_lag_5\n",
      "I_6_lag_4\n",
      "I_6_lag_3\n",
      "I_6_lag_2\n",
      "I_6_lag_1\n",
      "I_6_lag_0\n",
      "I_7_lag_20\n",
      "I_7_lag_19\n",
      "I_7_lag_18\n",
      "I_7_lag_17\n",
      "I_7_lag_16\n",
      "I_7_lag_15\n",
      "I_7_lag_14\n",
      "I_7_lag_13\n",
      "I_7_lag_12\n",
      "I_7_lag_11\n",
      "I_7_lag_10\n",
      "I_7_lag_9\n",
      "I_7_lag_8\n",
      "I_7_lag_7\n",
      "I_7_lag_6\n",
      "I_7_lag_5\n",
      "I_7_lag_4\n",
      "I_7_lag_3\n",
      "I_7_lag_2\n",
      "I_7_lag_1\n",
      "I_7_lag_0\n",
      "X_1_lag_20\n",
      "X_1_lag_19\n",
      "X_1_lag_18\n",
      "X_1_lag_17\n",
      "X_1_lag_16\n",
      "X_1_lag_15\n",
      "X_1_lag_14\n",
      "X_1_lag_13\n",
      "X_1_lag_12\n",
      "X_1_lag_11\n",
      "X_1_lag_10\n",
      "X_1_lag_9\n",
      "X_1_lag_8\n",
      "X_1_lag_7\n",
      "X_1_lag_6\n",
      "X_1_lag_5\n",
      "X_1_lag_4\n",
      "X_1_lag_3\n",
      "X_1_lag_2\n",
      "X_1_lag_1\n",
      "X_1_lag_0\n",
      "X_2_lag_20\n",
      "X_2_lag_19\n",
      "X_2_lag_18\n",
      "X_2_lag_17\n",
      "X_2_lag_16\n",
      "X_2_lag_15\n",
      "X_2_lag_14\n",
      "X_2_lag_13\n",
      "X_2_lag_12\n",
      "X_2_lag_11\n",
      "X_2_lag_10\n",
      "X_2_lag_9\n",
      "X_2_lag_8\n",
      "X_2_lag_7\n",
      "X_2_lag_6\n",
      "X_2_lag_5\n",
      "X_2_lag_4\n",
      "X_2_lag_3\n",
      "X_2_lag_2\n",
      "X_2_lag_1\n",
      "X_2_lag_0\n",
      "X_3_lag_20\n",
      "X_3_lag_19\n",
      "X_3_lag_18\n",
      "X_3_lag_17\n",
      "X_3_lag_16\n",
      "X_3_lag_15\n",
      "X_3_lag_14\n",
      "X_3_lag_13\n",
      "X_3_lag_12\n",
      "X_3_lag_11\n",
      "X_3_lag_10\n",
      "X_3_lag_9\n",
      "X_3_lag_8\n",
      "X_3_lag_7\n",
      "X_3_lag_6\n",
      "X_3_lag_5\n",
      "X_3_lag_4\n",
      "X_3_lag_3\n",
      "X_3_lag_2\n",
      "X_3_lag_1\n",
      "X_3_lag_0\n"
     ]
    }
   ],
   "source": [
    "# Let's see the columns to understand the construction of the dataset. \n",
    "# It begins with lag_20 and finishes with lag_0 for the 10 time series. \n",
    "# So lag_20 represent the fist day of a month set to a value of \"100\"\n",
    "for i in data.columns:\n",
    "    print(i)"
   ]
  },
  {
   "cell_type": "code",
   "execution_count": 20,
   "metadata": {},
   "outputs": [],
   "source": [
    "# There is up to 50 different samples (different weights) for the same time serie of 26 days \n",
    "# (21 days of training and 5 days of prediction)\n",
    "# given a train test of 10 000 sample, if there is exactly 50 different, we should obtain :\n",
    "# 10 000/50 = 200 different time series\n",
    "# Let's try to verify the exact number of different samples for a given time serie :"
   ]
  },
  {
   "cell_type": "code",
   "execution_count": 21,
   "metadata": {},
   "outputs": [
    {
     "name": "stdout",
     "output_type": "stream",
     "text": [
      "0 200\n",
      "1 200\n",
      "2 200\n",
      "3 200\n",
      "4 200\n",
      "5 200\n",
      "6 200\n",
      "7 200\n",
      "8 200\n",
      "9 200\n",
      "10 200\n",
      "11 200\n",
      "12 200\n",
      "13 200\n",
      "14 200\n",
      "15 200\n",
      "16 200\n",
      "17 200\n",
      "18 200\n",
      "19 193\n",
      "20 1\n"
     ]
    }
   ],
   "source": [
    "# For macro indicator X_1 we can find our same 200 time series starting at lag_18\n",
    "for i in range(0,21):\n",
    "    print(i,data[\"X_1_lag_\"+str(i)].nunique())"
   ]
  },
  {
   "cell_type": "code",
   "execution_count": 509,
   "metadata": {},
   "outputs": [
    {
     "name": "stdout",
     "output_type": "stream",
     "text": [
      "0 200\n",
      "1 200\n",
      "2 200\n",
      "3 200\n",
      "4 196\n",
      "5 194\n",
      "6 192\n",
      "7 191\n",
      "8 191\n",
      "9 184\n",
      "10 181\n",
      "11 181\n",
      "12 179\n",
      "13 174\n",
      "14 173\n",
      "15 172\n",
      "16 171\n",
      "17 169\n",
      "18 164\n",
      "19 157\n",
      "20 1\n"
     ]
    }
   ],
   "source": [
    "# Double check with for example I_7 \n",
    "for i in range(0,21):\n",
    "    print(i,data[\"I_7_lag_\"+str(i)].nunique())"
   ]
  },
  {
   "cell_type": "markdown",
   "metadata": {},
   "source": [
    "## Creating the customized cross_val "
   ]
  },
  {
   "cell_type": "code",
   "execution_count": 66,
   "metadata": {},
   "outputs": [],
   "source": [
    "from sklearn.model_selection import train_test_split"
   ]
  },
  {
   "cell_type": "code",
   "execution_count": 510,
   "metadata": {},
   "outputs": [],
   "source": [
    "# Let's split train/val by values of X1_lag_18\n",
    "sequences = data.X_1_lag_18.unique()"
   ]
  },
  {
   "cell_type": "code",
   "execution_count": 496,
   "metadata": {},
   "outputs": [],
   "source": [
    "train, val = train_test_split(sequences, test_size=0.4, random_state=42)"
   ]
  },
  {
   "cell_type": "code",
   "execution_count": 497,
   "metadata": {},
   "outputs": [
    {
     "data": {
      "text/plain": [
       "(120,)"
      ]
     },
     "execution_count": 497,
     "metadata": {},
     "output_type": "execute_result"
    }
   ],
   "source": [
    "train.shape"
   ]
  },
  {
   "cell_type": "code",
   "execution_count": 498,
   "metadata": {},
   "outputs": [
    {
     "data": {
      "text/plain": [
       "(80,)"
      ]
     },
     "execution_count": 498,
     "metadata": {},
     "output_type": "execute_result"
    }
   ],
   "source": [
    "val.shape"
   ]
  },
  {
   "cell_type": "code",
   "execution_count": 499,
   "metadata": {},
   "outputs": [],
   "source": [
    "full_data = data.copy()"
   ]
  },
  {
   "cell_type": "code",
   "execution_count": 500,
   "metadata": {},
   "outputs": [],
   "source": [
    "full_data[\"target\"] = target.Target"
   ]
  },
  {
   "cell_type": "code",
   "execution_count": 501,
   "metadata": {},
   "outputs": [],
   "source": [
    "df_train = full_data[data.X_1_lag_18.isin(train)]\n",
    "df_val = full_data[data.X_1_lag_18.isin(val)]"
   ]
  },
  {
   "cell_type": "code",
   "execution_count": 502,
   "metadata": {},
   "outputs": [
    {
     "name": "stdout",
     "output_type": "stream",
     "text": [
      "<class 'pandas.core.frame.DataFrame'>\n",
      "Int64Index: 6000 entries, 0 to 9997\n",
      "Columns: 218 entries, weight_I_1 to target\n",
      "dtypes: float64(218)\n",
      "memory usage: 10.0 MB\n"
     ]
    }
   ],
   "source": [
    "df_train.info()"
   ]
  },
  {
   "cell_type": "code",
   "execution_count": 503,
   "metadata": {},
   "outputs": [
    {
     "name": "stdout",
     "output_type": "stream",
     "text": [
      "<class 'pandas.core.frame.DataFrame'>\n",
      "Int64Index: 4000 entries, 5 to 9999\n",
      "Columns: 218 entries, weight_I_1 to target\n",
      "dtypes: float64(218)\n",
      "memory usage: 6.7 MB\n"
     ]
    }
   ],
   "source": [
    "df_val.info()"
   ]
  },
  {
   "cell_type": "code",
   "execution_count": 504,
   "metadata": {},
   "outputs": [],
   "source": [
    "X_train = df_train.drop([\"target\"],axis=1)\n",
    "y_train = df_train.loc[:,[\"target\"]]"
   ]
  },
  {
   "cell_type": "code",
   "execution_count": 505,
   "metadata": {},
   "outputs": [],
   "source": [
    "X_val = df_val.drop([\"target\"],axis=1)\n",
    "y_val = df_val.loc[:,[\"target\"]]"
   ]
  },
  {
   "cell_type": "code",
   "execution_count": 526,
   "metadata": {},
   "outputs": [
    {
     "data": {
      "text/plain": [
       "Target    1.288322\n",
       "dtype: float64"
      ]
     },
     "execution_count": 526,
     "metadata": {},
     "output_type": "execute_result"
    }
   ],
   "source": [
    "target.mean()"
   ]
  },
  {
   "cell_type": "code",
   "execution_count": 533,
   "metadata": {},
   "outputs": [],
   "source": [
    "# Let's recreate the benchmark score\n",
    "# The benchmark is the average Sharpe ratio of the training period\n",
    "# The metric is a L1 norm with values smoothed by a fonction : f(x) = sig(x)*exp(-1/abs(x))\n",
    "from sklearn.metrics import mean_absolute_error\n",
    "\n",
    "avg = y_train.target.mean()\n",
    "#avg = target.Target.mean()\n",
    "X_train_benchmark = X_train.copy()\n",
    "X_val_benchmark = X_val.copy()\n",
    "X_train_benchmark[\"pred_benchmark\"] = np.sign(avg)*np.exp(-1/abs(avg))\n",
    "X_val_benchmark[\"pred_benchmark\"] = np.sign(avg)*np.exp(-1/abs(avg))\n",
    "y_train[\"smoothed\"] = np.sign(y_train[\"target\"])*np.exp(-1/abs(y_train[\"target\"]))\n",
    "y_val[\"smoothed\"] = np.sign(y_val[\"target\"])*np.exp(-1/abs(y_val[\"target\"]))"
   ]
  },
  {
   "cell_type": "code",
   "execution_count": 534,
   "metadata": {},
   "outputs": [
    {
     "data": {
      "text/html": [
       "<div>\n",
       "<style scoped>\n",
       "    .dataframe tbody tr th:only-of-type {\n",
       "        vertical-align: middle;\n",
       "    }\n",
       "\n",
       "    .dataframe tbody tr th {\n",
       "        vertical-align: top;\n",
       "    }\n",
       "\n",
       "    .dataframe thead th {\n",
       "        text-align: right;\n",
       "    }\n",
       "</style>\n",
       "<table border=\"1\" class=\"dataframe\">\n",
       "  <thead>\n",
       "    <tr style=\"text-align: right;\">\n",
       "      <th></th>\n",
       "      <th>weight_I_1</th>\n",
       "      <th>weight_I_2</th>\n",
       "      <th>weight_I_3</th>\n",
       "      <th>weight_I_4</th>\n",
       "      <th>weight_I_5</th>\n",
       "      <th>weight_I_6</th>\n",
       "      <th>weight_I_7</th>\n",
       "      <th>I_1_lag_20</th>\n",
       "      <th>I_1_lag_19</th>\n",
       "      <th>I_1_lag_18</th>\n",
       "      <th>...</th>\n",
       "      <th>X_3_lag_8</th>\n",
       "      <th>X_3_lag_7</th>\n",
       "      <th>X_3_lag_6</th>\n",
       "      <th>X_3_lag_5</th>\n",
       "      <th>X_3_lag_4</th>\n",
       "      <th>X_3_lag_3</th>\n",
       "      <th>X_3_lag_2</th>\n",
       "      <th>X_3_lag_1</th>\n",
       "      <th>X_3_lag_0</th>\n",
       "      <th>pred_benchmark</th>\n",
       "    </tr>\n",
       "    <tr>\n",
       "      <th>ID</th>\n",
       "      <th></th>\n",
       "      <th></th>\n",
       "      <th></th>\n",
       "      <th></th>\n",
       "      <th></th>\n",
       "      <th></th>\n",
       "      <th></th>\n",
       "      <th></th>\n",
       "      <th></th>\n",
       "      <th></th>\n",
       "      <th></th>\n",
       "      <th></th>\n",
       "      <th></th>\n",
       "      <th></th>\n",
       "      <th></th>\n",
       "      <th></th>\n",
       "      <th></th>\n",
       "      <th></th>\n",
       "      <th></th>\n",
       "      <th></th>\n",
       "      <th></th>\n",
       "    </tr>\n",
       "  </thead>\n",
       "  <tbody>\n",
       "    <tr>\n",
       "      <th>0</th>\n",
       "      <td>0.15</td>\n",
       "      <td>0.00</td>\n",
       "      <td>0.05</td>\n",
       "      <td>0.80</td>\n",
       "      <td>0.00</td>\n",
       "      <td>0.00</td>\n",
       "      <td>0.00</td>\n",
       "      <td>100.0</td>\n",
       "      <td>100.047398</td>\n",
       "      <td>100.058480</td>\n",
       "      <td>...</td>\n",
       "      <td>102.054669</td>\n",
       "      <td>102.375596</td>\n",
       "      <td>103.148605</td>\n",
       "      <td>103.148605</td>\n",
       "      <td>103.046483</td>\n",
       "      <td>103.075701</td>\n",
       "      <td>103.134043</td>\n",
       "      <td>103.221509</td>\n",
       "      <td>103.338192</td>\n",
       "      <td>0.441311</td>\n",
       "    </tr>\n",
       "    <tr>\n",
       "      <th>1</th>\n",
       "      <td>0.00</td>\n",
       "      <td>0.00</td>\n",
       "      <td>0.00</td>\n",
       "      <td>0.40</td>\n",
       "      <td>0.25</td>\n",
       "      <td>0.00</td>\n",
       "      <td>0.35</td>\n",
       "      <td>100.0</td>\n",
       "      <td>99.912339</td>\n",
       "      <td>99.960558</td>\n",
       "      <td>...</td>\n",
       "      <td>100.938707</td>\n",
       "      <td>100.993926</td>\n",
       "      <td>101.132016</td>\n",
       "      <td>100.745489</td>\n",
       "      <td>100.524617</td>\n",
       "      <td>100.303743</td>\n",
       "      <td>100.276090</td>\n",
       "      <td>100.303743</td>\n",
       "      <td>100.554527</td>\n",
       "      <td>0.441311</td>\n",
       "    </tr>\n",
       "    <tr>\n",
       "      <th>2</th>\n",
       "      <td>0.85</td>\n",
       "      <td>0.00</td>\n",
       "      <td>0.00</td>\n",
       "      <td>0.15</td>\n",
       "      <td>0.00</td>\n",
       "      <td>0.00</td>\n",
       "      <td>0.00</td>\n",
       "      <td>100.0</td>\n",
       "      <td>99.481681</td>\n",
       "      <td>100.199593</td>\n",
       "      <td>...</td>\n",
       "      <td>100.581716</td>\n",
       "      <td>100.313489</td>\n",
       "      <td>100.790251</td>\n",
       "      <td>101.013756</td>\n",
       "      <td>100.686030</td>\n",
       "      <td>100.686030</td>\n",
       "      <td>100.060233</td>\n",
       "      <td>99.747384</td>\n",
       "      <td>99.970889</td>\n",
       "      <td>0.441311</td>\n",
       "    </tr>\n",
       "    <tr>\n",
       "      <th>3</th>\n",
       "      <td>0.00</td>\n",
       "      <td>0.00</td>\n",
       "      <td>0.70</td>\n",
       "      <td>0.05</td>\n",
       "      <td>0.25</td>\n",
       "      <td>0.00</td>\n",
       "      <td>0.00</td>\n",
       "      <td>100.0</td>\n",
       "      <td>100.124618</td>\n",
       "      <td>100.023384</td>\n",
       "      <td>...</td>\n",
       "      <td>101.040072</td>\n",
       "      <td>101.055122</td>\n",
       "      <td>101.567682</td>\n",
       "      <td>101.703322</td>\n",
       "      <td>101.974603</td>\n",
       "      <td>101.733422</td>\n",
       "      <td>101.838963</td>\n",
       "      <td>102.080144</td>\n",
       "      <td>101.688272</td>\n",
       "      <td>0.441311</td>\n",
       "    </tr>\n",
       "    <tr>\n",
       "      <th>4</th>\n",
       "      <td>0.00</td>\n",
       "      <td>0.55</td>\n",
       "      <td>0.05</td>\n",
       "      <td>0.00</td>\n",
       "      <td>0.00</td>\n",
       "      <td>0.00</td>\n",
       "      <td>0.40</td>\n",
       "      <td>100.0</td>\n",
       "      <td>100.000000</td>\n",
       "      <td>99.407717</td>\n",
       "      <td>...</td>\n",
       "      <td>99.482389</td>\n",
       "      <td>99.604192</td>\n",
       "      <td>100.030499</td>\n",
       "      <td>99.847797</td>\n",
       "      <td>100.426310</td>\n",
       "      <td>100.426310</td>\n",
       "      <td>100.822217</td>\n",
       "      <td>100.913521</td>\n",
       "      <td>100.852619</td>\n",
       "      <td>0.441311</td>\n",
       "    </tr>\n",
       "    <tr>\n",
       "      <th>...</th>\n",
       "      <td>...</td>\n",
       "      <td>...</td>\n",
       "      <td>...</td>\n",
       "      <td>...</td>\n",
       "      <td>...</td>\n",
       "      <td>...</td>\n",
       "      <td>...</td>\n",
       "      <td>...</td>\n",
       "      <td>...</td>\n",
       "      <td>...</td>\n",
       "      <td>...</td>\n",
       "      <td>...</td>\n",
       "      <td>...</td>\n",
       "      <td>...</td>\n",
       "      <td>...</td>\n",
       "      <td>...</td>\n",
       "      <td>...</td>\n",
       "      <td>...</td>\n",
       "      <td>...</td>\n",
       "      <td>...</td>\n",
       "      <td>...</td>\n",
       "    </tr>\n",
       "    <tr>\n",
       "      <th>9991</th>\n",
       "      <td>0.00</td>\n",
       "      <td>0.85</td>\n",
       "      <td>0.15</td>\n",
       "      <td>0.00</td>\n",
       "      <td>0.00</td>\n",
       "      <td>0.00</td>\n",
       "      <td>0.00</td>\n",
       "      <td>100.0</td>\n",
       "      <td>100.039299</td>\n",
       "      <td>100.039299</td>\n",
       "      <td>...</td>\n",
       "      <td>98.689459</td>\n",
       "      <td>99.031339</td>\n",
       "      <td>98.404559</td>\n",
       "      <td>98.404559</td>\n",
       "      <td>98.945914</td>\n",
       "      <td>98.945914</td>\n",
       "      <td>98.689459</td>\n",
       "      <td>98.831954</td>\n",
       "      <td>98.831954</td>\n",
       "      <td>0.441311</td>\n",
       "    </tr>\n",
       "    <tr>\n",
       "      <th>9992</th>\n",
       "      <td>0.10</td>\n",
       "      <td>0.00</td>\n",
       "      <td>0.00</td>\n",
       "      <td>0.00</td>\n",
       "      <td>0.70</td>\n",
       "      <td>0.20</td>\n",
       "      <td>0.00</td>\n",
       "      <td>100.0</td>\n",
       "      <td>100.215497</td>\n",
       "      <td>99.831932</td>\n",
       "      <td>...</td>\n",
       "      <td>100.869801</td>\n",
       "      <td>100.584332</td>\n",
       "      <td>99.796119</td>\n",
       "      <td>100.475607</td>\n",
       "      <td>100.475607</td>\n",
       "      <td>99.864050</td>\n",
       "      <td>99.266062</td>\n",
       "      <td>98.899093</td>\n",
       "      <td>99.116543</td>\n",
       "      <td>0.441311</td>\n",
       "    </tr>\n",
       "    <tr>\n",
       "      <th>9994</th>\n",
       "      <td>0.05</td>\n",
       "      <td>0.00</td>\n",
       "      <td>0.00</td>\n",
       "      <td>0.00</td>\n",
       "      <td>0.00</td>\n",
       "      <td>0.30</td>\n",
       "      <td>0.65</td>\n",
       "      <td>100.0</td>\n",
       "      <td>99.883432</td>\n",
       "      <td>100.265371</td>\n",
       "      <td>...</td>\n",
       "      <td>99.079252</td>\n",
       "      <td>99.168399</td>\n",
       "      <td>98.901052</td>\n",
       "      <td>99.138652</td>\n",
       "      <td>99.673253</td>\n",
       "      <td>99.138652</td>\n",
       "      <td>99.524800</td>\n",
       "      <td>99.495051</td>\n",
       "      <td>99.792052</td>\n",
       "      <td>0.441311</td>\n",
       "    </tr>\n",
       "    <tr>\n",
       "      <th>9995</th>\n",
       "      <td>0.50</td>\n",
       "      <td>0.00</td>\n",
       "      <td>0.00</td>\n",
       "      <td>0.45</td>\n",
       "      <td>0.00</td>\n",
       "      <td>0.00</td>\n",
       "      <td>0.05</td>\n",
       "      <td>100.0</td>\n",
       "      <td>100.133669</td>\n",
       "      <td>100.200489</td>\n",
       "      <td>...</td>\n",
       "      <td>101.768901</td>\n",
       "      <td>101.825961</td>\n",
       "      <td>102.282452</td>\n",
       "      <td>103.280979</td>\n",
       "      <td>102.738943</td>\n",
       "      <td>102.510698</td>\n",
       "      <td>102.596243</td>\n",
       "      <td>103.280979</td>\n",
       "      <td>103.223917</td>\n",
       "      <td>0.441311</td>\n",
       "    </tr>\n",
       "    <tr>\n",
       "      <th>9997</th>\n",
       "      <td>0.10</td>\n",
       "      <td>0.00</td>\n",
       "      <td>0.00</td>\n",
       "      <td>0.00</td>\n",
       "      <td>0.00</td>\n",
       "      <td>0.65</td>\n",
       "      <td>0.25</td>\n",
       "      <td>100.0</td>\n",
       "      <td>100.000000</td>\n",
       "      <td>99.981892</td>\n",
       "      <td>...</td>\n",
       "      <td>98.527571</td>\n",
       "      <td>97.744362</td>\n",
       "      <td>98.088972</td>\n",
       "      <td>98.057644</td>\n",
       "      <td>98.214286</td>\n",
       "      <td>97.525063</td>\n",
       "      <td>97.274436</td>\n",
       "      <td>96.773184</td>\n",
       "      <td>96.804512</td>\n",
       "      <td>0.441311</td>\n",
       "    </tr>\n",
       "  </tbody>\n",
       "</table>\n",
       "<p>6000 rows × 218 columns</p>\n",
       "</div>"
      ],
      "text/plain": [
       "      weight_I_1  weight_I_2  weight_I_3  weight_I_4  weight_I_5  weight_I_6  \\\n",
       "ID                                                                             \n",
       "0           0.15        0.00        0.05        0.80        0.00        0.00   \n",
       "1           0.00        0.00        0.00        0.40        0.25        0.00   \n",
       "2           0.85        0.00        0.00        0.15        0.00        0.00   \n",
       "3           0.00        0.00        0.70        0.05        0.25        0.00   \n",
       "4           0.00        0.55        0.05        0.00        0.00        0.00   \n",
       "...          ...         ...         ...         ...         ...         ...   \n",
       "9991        0.00        0.85        0.15        0.00        0.00        0.00   \n",
       "9992        0.10        0.00        0.00        0.00        0.70        0.20   \n",
       "9994        0.05        0.00        0.00        0.00        0.00        0.30   \n",
       "9995        0.50        0.00        0.00        0.45        0.00        0.00   \n",
       "9997        0.10        0.00        0.00        0.00        0.00        0.65   \n",
       "\n",
       "      weight_I_7  I_1_lag_20  I_1_lag_19  I_1_lag_18  ...   X_3_lag_8  \\\n",
       "ID                                                    ...               \n",
       "0           0.00       100.0  100.047398  100.058480  ...  102.054669   \n",
       "1           0.35       100.0   99.912339   99.960558  ...  100.938707   \n",
       "2           0.00       100.0   99.481681  100.199593  ...  100.581716   \n",
       "3           0.00       100.0  100.124618  100.023384  ...  101.040072   \n",
       "4           0.40       100.0  100.000000   99.407717  ...   99.482389   \n",
       "...          ...         ...         ...         ...  ...         ...   \n",
       "9991        0.00       100.0  100.039299  100.039299  ...   98.689459   \n",
       "9992        0.00       100.0  100.215497   99.831932  ...  100.869801   \n",
       "9994        0.65       100.0   99.883432  100.265371  ...   99.079252   \n",
       "9995        0.05       100.0  100.133669  100.200489  ...  101.768901   \n",
       "9997        0.25       100.0  100.000000   99.981892  ...   98.527571   \n",
       "\n",
       "       X_3_lag_7   X_3_lag_6   X_3_lag_5   X_3_lag_4   X_3_lag_3   X_3_lag_2  \\\n",
       "ID                                                                             \n",
       "0     102.375596  103.148605  103.148605  103.046483  103.075701  103.134043   \n",
       "1     100.993926  101.132016  100.745489  100.524617  100.303743  100.276090   \n",
       "2     100.313489  100.790251  101.013756  100.686030  100.686030  100.060233   \n",
       "3     101.055122  101.567682  101.703322  101.974603  101.733422  101.838963   \n",
       "4      99.604192  100.030499   99.847797  100.426310  100.426310  100.822217   \n",
       "...          ...         ...         ...         ...         ...         ...   \n",
       "9991   99.031339   98.404559   98.404559   98.945914   98.945914   98.689459   \n",
       "9992  100.584332   99.796119  100.475607  100.475607   99.864050   99.266062   \n",
       "9994   99.168399   98.901052   99.138652   99.673253   99.138652   99.524800   \n",
       "9995  101.825961  102.282452  103.280979  102.738943  102.510698  102.596243   \n",
       "9997   97.744362   98.088972   98.057644   98.214286   97.525063   97.274436   \n",
       "\n",
       "       X_3_lag_1   X_3_lag_0  pred_benchmark  \n",
       "ID                                            \n",
       "0     103.221509  103.338192        0.441311  \n",
       "1     100.303743  100.554527        0.441311  \n",
       "2      99.747384   99.970889        0.441311  \n",
       "3     102.080144  101.688272        0.441311  \n",
       "4     100.913521  100.852619        0.441311  \n",
       "...          ...         ...             ...  \n",
       "9991   98.831954   98.831954        0.441311  \n",
       "9992   98.899093   99.116543        0.441311  \n",
       "9994   99.495051   99.792052        0.441311  \n",
       "9995  103.280979  103.223917        0.441311  \n",
       "9997   96.773184   96.804512        0.441311  \n",
       "\n",
       "[6000 rows x 218 columns]"
      ]
     },
     "execution_count": 534,
     "metadata": {},
     "output_type": "execute_result"
    }
   ],
   "source": [
    "X_train_benchmark"
   ]
  },
  {
   "cell_type": "code",
   "execution_count": 535,
   "metadata": {},
   "outputs": [
    {
     "name": "stdout",
     "output_type": "stream",
     "text": [
      "The average Sharpe ratio over the training set is : 1.222486804896123\n",
      "Benchmark train score: 0.5861330808935409, Benchmark validation score: 0.6061472432743502\n"
     ]
    }
   ],
   "source": [
    "benchmark_train_score = mean_absolute_error(y_train[\"smoothed\"], X_train_benchmark[\"pred_benchmark\"])\n",
    "benchmark_val_score =  mean_absolute_error(y_val[\"smoothed\"], X_val_benchmark[\"pred_benchmark\"])\n",
    "print(\"The average Sharpe ratio over the training set is :\",avg)\n",
    "print(\"Benchmark train score: {}, Benchmark validation score: {}\".format(benchmark_train_score, benchmark_val_score))"
   ]
  },
  {
   "cell_type": "markdown",
   "metadata": {},
   "source": [
    "## Decision Tree"
   ]
  },
  {
   "cell_type": "code",
   "execution_count": 536,
   "metadata": {},
   "outputs": [],
   "source": [
    "from sklearn.tree import DecisionTreeRegressor"
   ]
  },
  {
   "cell_type": "code",
   "execution_count": 537,
   "metadata": {},
   "outputs": [
    {
     "data": {
      "text/plain": [
       "DecisionTreeRegressor(ccp_alpha=0.0, criterion='mae', max_depth=2,\n",
       "                      max_features=None, max_leaf_nodes=None,\n",
       "                      min_impurity_decrease=0.0, min_impurity_split=None,\n",
       "                      min_samples_leaf=1, min_samples_split=2,\n",
       "                      min_weight_fraction_leaf=0.0, presort='deprecated',\n",
       "                      random_state=None, splitter='best')"
      ]
     },
     "execution_count": 537,
     "metadata": {},
     "output_type": "execute_result"
    }
   ],
   "source": [
    "dtr = DecisionTreeRegressor(criterion = \"mae\", max_depth=2)\n",
    "dtr.fit(X_train, y_train.smoothed)"
   ]
  },
  {
   "cell_type": "code",
   "execution_count": 538,
   "metadata": {},
   "outputs": [],
   "source": [
    "y_pred_train = dtr.predict(X_train)\n",
    "y_pred_val = dtr.predict(X_val)"
   ]
  },
  {
   "cell_type": "code",
   "execution_count": 539,
   "metadata": {},
   "outputs": [
    {
     "name": "stdout",
     "output_type": "stream",
     "text": [
      "0.4966500623590894 0.6080147046509624\n"
     ]
    }
   ],
   "source": [
    "dtr_train_score = mean_absolute_error(y_train.smoothed, y_pred_train)\n",
    "dtr_val_score = mean_absolute_error(y_val.smoothed, y_pred_val)\n",
    "print(dtr_train_score, dtr_val_score)"
   ]
  },
  {
   "cell_type": "code",
   "execution_count": 424,
   "metadata": {},
   "outputs": [],
   "source": [
    "def plot_feature_importances(model, Frame):\n",
    "    plt.clf()\n",
    "    n_features=len(Frame.columns)\n",
    "    plt.figure(figsize=(10,100))\n",
    "    plt.barh(range(n_features), model.feature_importances_, align='center')\n",
    "    plt.yticks(np.arange(n_features), Frame.columns)\n",
    "    plt.xlabel(\"Feature importance\")\n",
    "    plt.ylabel(\"Feature\")\n",
    "    plt.ylim(-1, n_features)"
   ]
  },
  {
   "cell_type": "code",
   "execution_count": 425,
   "metadata": {},
   "outputs": [
    {
     "data": {
      "text/plain": [
       "<Figure size 432x288 with 0 Axes>"
      ]
     },
     "metadata": {},
     "output_type": "display_data"
    },
    {
     "data": {
      "image/png": "[encoded data removed]",
      "text/plain": [
       "<Figure size 720x7200 with 1 Axes>"
      ]
     },
     "metadata": {
      "needs_background": "light"
     },
     "output_type": "display_data"
    }
   ],
   "source": [
    "plot_feature_importances(dtr, X_train)"
   ]
  },
  {
   "cell_type": "markdown",
   "metadata": {},
   "source": [
    "### Linear Regressions"
   ]
  },
  {
   "cell_type": "code",
   "execution_count": 369,
   "metadata": {},
   "outputs": [],
   "source": [
    "from sklearn.preprocessing import StandardScaler\n",
    "from sklearn.linear_model import LinearRegression\n",
    "from sklearn.linear_model import ElasticNet"
   ]
  },
  {
   "cell_type": "code",
   "execution_count": 426,
   "metadata": {},
   "outputs": [],
   "source": [
    "sc_x = StandardScaler()\n",
    "X_train_norm = sc_x.fit_transform(X_train)\n",
    "X_val_norm = sc_x.transform(X_val)"
   ]
  },
  {
   "cell_type": "markdown",
   "metadata": {},
   "source": [
    "#### ElasticNet"
   ]
  },
  {
   "cell_type": "code",
   "execution_count": 445,
   "metadata": {},
   "outputs": [
    {
     "data": {
      "text/plain": [
       "ElasticNet(alpha=0.7, copy_X=True, fit_intercept=True, l1_ratio=0,\n",
       "           max_iter=1000, normalize=False, positive=False, precompute=False,\n",
       "           random_state=None, selection='cyclic', tol=0.0001, warm_start=False)"
      ]
     },
     "execution_count": 445,
     "metadata": {},
     "output_type": "execute_result"
    }
   ],
   "source": [
    "elastic_net = ElasticNet(alpha= 0.7, l1_ratio= 0)\n",
    "elastic_net.fit(X_train_norm, y_train.smoothed)"
   ]
  },
  {
   "cell_type": "code",
   "execution_count": 446,
   "metadata": {},
   "outputs": [],
   "source": [
    "elast_pred_train = elastic_net.predict(X_train_norm)\n",
    "elast_pred_val = elastic_net.predict(X_val_norm)"
   ]
  },
  {
   "cell_type": "code",
   "execution_count": 447,
   "metadata": {},
   "outputs": [
    {
     "name": "stdout",
     "output_type": "stream",
     "text": [
      "0.5054709487617327 0.5919025669183519\n"
     ]
    }
   ],
   "source": [
    "print(mean_absolute_error(elast_pred_train, y_train.smoothed), mean_absolute_error(elast_pred_val, y_val.smoothed))"
   ]
  },
  {
   "cell_type": "code",
   "execution_count": 540,
   "metadata": {},
   "outputs": [
    {
     "data": {
      "text/plain": [
       "GridSearchCV(cv=5, error_score=nan,\n",
       "             estimator=ElasticNet(alpha=0.7, copy_X=True, fit_intercept=True,\n",
       "                                  l1_ratio=0, max_iter=1000, normalize=False,\n",
       "                                  positive=False, precompute=False,\n",
       "                                  random_state=None, selection='cyclic',\n",
       "                                  tol=0.0001, warm_start=False),\n",
       "             iid='deprecated', n_jobs=None,\n",
       "             param_grid={'alpha': [0.01, 1, 5, 10], 'l1_ratio': [0, 1]},\n",
       "             pre_dispatch='2*n_jobs', refit=True, return_train_score=False,\n",
       "             scoring=None, verbose=0)"
      ]
     },
     "execution_count": 540,
     "metadata": {},
     "output_type": "execute_result"
    }
   ],
   "source": [
    "from sklearn.model_selection import GridSearchCV\n",
    "\n",
    "params = {'alpha' : [0.01, 1, 5, 10], 'l1_ratio' : [0, 1]}\n",
    "reg = elastic_net\n",
    "grid = GridSearchCV(reg,param_grid=params, cv = 5)\n",
    "\n",
    "grid.fit(X_train_norm, y_train.smoothed)"
   ]
  },
  {
   "cell_type": "code",
   "execution_count": 541,
   "metadata": {},
   "outputs": [
    {
     "data": {
      "text/plain": [
       "{'alpha': 0.01, 'l1_ratio': 0}"
      ]
     },
     "execution_count": 541,
     "metadata": {},
     "output_type": "execute_result"
    }
   ],
   "source": [
    "grid.best_params_"
   ]
  },
  {
   "cell_type": "code",
   "execution_count": 542,
   "metadata": {},
   "outputs": [
    {
     "name": "stdout",
     "output_type": "stream",
     "text": [
      "0.3673086881333082\n"
     ]
    },
    {
     "data": {
      "text/plain": [
       "0.7043870899461543"
      ]
     },
     "execution_count": 542,
     "metadata": {},
     "output_type": "execute_result"
    }
   ],
   "source": [
    "print(mean_absolute_error(grid.predict(X_train_norm), y_train.smoothed))\n",
    "mean_absolute_error(grid.predict(X_val_norm), y_val.smoothed)"
   ]
  },
  {
   "cell_type": "markdown",
   "metadata": {},
   "source": [
    "#### LinearRegression"
   ]
  },
  {
   "cell_type": "code",
   "execution_count": null,
   "metadata": {},
   "outputs": [],
   "source": [
    "lr = LinearRegression()"
   ]
  }
 ],
 "metadata": {
  "kernelspec": {
   "display_name": "Python 3",
   "language": "python",
   "name": "python3"
  },
  "language_info": {
   "codemirror_mode": {
    "name": "ipython",
    "version": 3
   },
   "file_extension": ".py",
   "mimetype": "text/x-python",
   "name": "python",
   "nbconvert_exporter": "python",
   "pygments_lexer": "ipython3",
   "version": "3.7.6"
  },
  "toc": {
   "base_numbering": 1,
   "nav_menu": {},
   "number_sections": true,
   "sideBar": true,
   "skip_h1_title": false,
   "title_cell": "Table of Contents",
   "title_sidebar": "Contents",
   "toc_cell": false,
   "toc_position": {},
   "toc_section_display": true,
   "toc_window_display": false
  }
 },
 "nbformat": 4,
 "nbformat_minor": 4
}
