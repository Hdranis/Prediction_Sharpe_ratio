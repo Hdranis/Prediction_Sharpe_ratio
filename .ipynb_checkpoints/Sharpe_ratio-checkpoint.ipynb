{
 "cells": [
  {
   "cell_type": "markdown",
   "metadata": {},
   "source": [
    "# Prediction of Sharpe ratio for blends of quantitative strategies"
   ]
  },
  {
   "cell_type": "code",
   "execution_count": 1,
   "metadata": {},
   "outputs": [
    {
     "name": "stderr",
     "output_type": "stream",
     "text": [
      "Using TensorFlow backend.\n"
     ]
    }
   ],
   "source": [
    "import warnings\n",
    "warnings.filterwarnings(\"ignore\")\n",
    "\n",
    "import pandas as pd\n",
    "import matplotlib.pyplot as plt\n",
    "import seaborn as sns\n",
    "import numpy as np\n",
    "\n",
    "from sklearn.tree import DecisionTreeRegressor\n",
    "from sklearn.preprocessing import StandardScaler\n",
    "from sklearn.linear_model import LinearRegression\n",
    "from sklearn.linear_model import ElasticNet\n",
    "from sklearn.model_selection import GridSearchCV\n",
    "from sklearn.feature_selection import SelectKBest, f_regression\n",
    "from sklearn.pipeline import Pipeline\n",
    "from sklearn.model_selection import train_test_split\n",
    "from sklearn.metrics import mean_absolute_error\n",
    "from sklearn.ensemble import AdaBoostRegressor\n",
    "\n",
    "import tensorflow as tf\n",
    "from keras import backend as K"
   ]
  },
  {
   "cell_type": "code",
   "execution_count": 2,
   "metadata": {},
   "outputs": [],
   "source": [
    "data = pd.read_csv(\"Data/Training_Input_2dx8C9Q.csv\")\n",
    "target = pd.read_csv(\"Data/Training_Output_IJhBXtA.csv\")"
   ]
  },
  {
   "cell_type": "code",
   "execution_count": 3,
   "metadata": {},
   "outputs": [],
   "source": [
    "test = pd.read_csv(\"Data/Testing_Input_dPKY3Rf.csv\")"
   ]
  },
  {
   "cell_type": "code",
   "execution_count": 335,
   "metadata": {},
   "outputs": [
    {
     "data": {
      "text/plain": [
       "(10000, 218)"
      ]
     },
     "execution_count": 335,
     "metadata": {},
     "output_type": "execute_result"
    }
   ],
   "source": [
    "data.shape"
   ]
  },
  {
   "cell_type": "code",
   "execution_count": 336,
   "metadata": {},
   "outputs": [
    {
     "data": {
      "text/plain": [
       "(10000, 2)"
      ]
     },
     "execution_count": 336,
     "metadata": {},
     "output_type": "execute_result"
    }
   ],
   "source": [
    "target.shape"
   ]
  },
  {
   "cell_type": "code",
   "execution_count": 337,
   "metadata": {},
   "outputs": [
    {
     "data": {
      "text/plain": [
       "(4450, 218)"
      ]
     },
     "execution_count": 337,
     "metadata": {},
     "output_type": "execute_result"
    }
   ],
   "source": [
    "test.shape"
   ]
  },
  {
   "cell_type": "code",
   "execution_count": 4,
   "metadata": {},
   "outputs": [],
   "source": [
    "data = data.set_index(\"ID\")\n",
    "target = target.set_index(\"ID\")"
   ]
  },
  {
   "cell_type": "code",
   "execution_count": 5,
   "metadata": {},
   "outputs": [],
   "source": [
    "test = test.set_index(\"ID\")"
   ]
  },
  {
   "cell_type": "code",
   "execution_count": 339,
   "metadata": {
    "collapsed": true
   },
   "outputs": [
    {
     "data": {
      "text/html": [
       "<div>\n",
       "<style scoped>\n",
       "    .dataframe tbody tr th:only-of-type {\n",
       "        vertical-align: middle;\n",
       "    }\n",
       "\n",
       "    .dataframe tbody tr th {\n",
       "        vertical-align: top;\n",
       "    }\n",
       "\n",
       "    .dataframe thead th {\n",
       "        text-align: right;\n",
       "    }\n",
       "</style>\n",
       "<table border=\"1\" class=\"dataframe\">\n",
       "  <thead>\n",
       "    <tr style=\"text-align: right;\">\n",
       "      <th></th>\n",
       "      <th>weight_I_1</th>\n",
       "      <th>weight_I_2</th>\n",
       "      <th>weight_I_3</th>\n",
       "      <th>weight_I_4</th>\n",
       "      <th>weight_I_5</th>\n",
       "      <th>weight_I_6</th>\n",
       "      <th>weight_I_7</th>\n",
       "      <th>I_1_lag_20</th>\n",
       "      <th>I_1_lag_19</th>\n",
       "      <th>I_1_lag_18</th>\n",
       "      <th>...</th>\n",
       "      <th>X_3_lag_9</th>\n",
       "      <th>X_3_lag_8</th>\n",
       "      <th>X_3_lag_7</th>\n",
       "      <th>X_3_lag_6</th>\n",
       "      <th>X_3_lag_5</th>\n",
       "      <th>X_3_lag_4</th>\n",
       "      <th>X_3_lag_3</th>\n",
       "      <th>X_3_lag_2</th>\n",
       "      <th>X_3_lag_1</th>\n",
       "      <th>X_3_lag_0</th>\n",
       "    </tr>\n",
       "    <tr>\n",
       "      <th>ID</th>\n",
       "      <th></th>\n",
       "      <th></th>\n",
       "      <th></th>\n",
       "      <th></th>\n",
       "      <th></th>\n",
       "      <th></th>\n",
       "      <th></th>\n",
       "      <th></th>\n",
       "      <th></th>\n",
       "      <th></th>\n",
       "      <th></th>\n",
       "      <th></th>\n",
       "      <th></th>\n",
       "      <th></th>\n",
       "      <th></th>\n",
       "      <th></th>\n",
       "      <th></th>\n",
       "      <th></th>\n",
       "      <th></th>\n",
       "      <th></th>\n",
       "      <th></th>\n",
       "    </tr>\n",
       "  </thead>\n",
       "  <tbody>\n",
       "    <tr>\n",
       "      <th>0</th>\n",
       "      <td>0.15</td>\n",
       "      <td>0.00</td>\n",
       "      <td>0.05</td>\n",
       "      <td>0.80</td>\n",
       "      <td>0.00</td>\n",
       "      <td>0.0</td>\n",
       "      <td>0.00</td>\n",
       "      <td>100.0</td>\n",
       "      <td>100.047398</td>\n",
       "      <td>100.058480</td>\n",
       "      <td>...</td>\n",
       "      <td>101.383783</td>\n",
       "      <td>102.054669</td>\n",
       "      <td>102.375596</td>\n",
       "      <td>103.148605</td>\n",
       "      <td>103.148605</td>\n",
       "      <td>103.046483</td>\n",
       "      <td>103.075701</td>\n",
       "      <td>103.134043</td>\n",
       "      <td>103.221509</td>\n",
       "      <td>103.338192</td>\n",
       "    </tr>\n",
       "    <tr>\n",
       "      <th>1</th>\n",
       "      <td>0.00</td>\n",
       "      <td>0.00</td>\n",
       "      <td>0.00</td>\n",
       "      <td>0.40</td>\n",
       "      <td>0.25</td>\n",
       "      <td>0.0</td>\n",
       "      <td>0.35</td>\n",
       "      <td>100.0</td>\n",
       "      <td>99.912339</td>\n",
       "      <td>99.960558</td>\n",
       "      <td>...</td>\n",
       "      <td>100.911142</td>\n",
       "      <td>100.938707</td>\n",
       "      <td>100.993926</td>\n",
       "      <td>101.132016</td>\n",
       "      <td>100.745489</td>\n",
       "      <td>100.524617</td>\n",
       "      <td>100.303743</td>\n",
       "      <td>100.276090</td>\n",
       "      <td>100.303743</td>\n",
       "      <td>100.554527</td>\n",
       "    </tr>\n",
       "    <tr>\n",
       "      <th>2</th>\n",
       "      <td>0.85</td>\n",
       "      <td>0.00</td>\n",
       "      <td>0.00</td>\n",
       "      <td>0.15</td>\n",
       "      <td>0.00</td>\n",
       "      <td>0.0</td>\n",
       "      <td>0.00</td>\n",
       "      <td>100.0</td>\n",
       "      <td>99.481681</td>\n",
       "      <td>100.199593</td>\n",
       "      <td>...</td>\n",
       "      <td>100.373084</td>\n",
       "      <td>100.581716</td>\n",
       "      <td>100.313489</td>\n",
       "      <td>100.790251</td>\n",
       "      <td>101.013756</td>\n",
       "      <td>100.686030</td>\n",
       "      <td>100.686030</td>\n",
       "      <td>100.060233</td>\n",
       "      <td>99.747384</td>\n",
       "      <td>99.970889</td>\n",
       "    </tr>\n",
       "    <tr>\n",
       "      <th>3</th>\n",
       "      <td>0.00</td>\n",
       "      <td>0.00</td>\n",
       "      <td>0.70</td>\n",
       "      <td>0.05</td>\n",
       "      <td>0.25</td>\n",
       "      <td>0.0</td>\n",
       "      <td>0.00</td>\n",
       "      <td>100.0</td>\n",
       "      <td>100.124618</td>\n",
       "      <td>100.023384</td>\n",
       "      <td>...</td>\n",
       "      <td>100.844136</td>\n",
       "      <td>101.040072</td>\n",
       "      <td>101.055122</td>\n",
       "      <td>101.567682</td>\n",
       "      <td>101.703322</td>\n",
       "      <td>101.974603</td>\n",
       "      <td>101.733422</td>\n",
       "      <td>101.838963</td>\n",
       "      <td>102.080144</td>\n",
       "      <td>101.688272</td>\n",
       "    </tr>\n",
       "    <tr>\n",
       "      <th>4</th>\n",
       "      <td>0.00</td>\n",
       "      <td>0.55</td>\n",
       "      <td>0.05</td>\n",
       "      <td>0.00</td>\n",
       "      <td>0.00</td>\n",
       "      <td>0.0</td>\n",
       "      <td>0.40</td>\n",
       "      <td>100.0</td>\n",
       "      <td>100.000000</td>\n",
       "      <td>99.407717</td>\n",
       "      <td>...</td>\n",
       "      <td>99.665093</td>\n",
       "      <td>99.482389</td>\n",
       "      <td>99.604192</td>\n",
       "      <td>100.030499</td>\n",
       "      <td>99.847797</td>\n",
       "      <td>100.426310</td>\n",
       "      <td>100.426310</td>\n",
       "      <td>100.822217</td>\n",
       "      <td>100.913521</td>\n",
       "      <td>100.852619</td>\n",
       "    </tr>\n",
       "  </tbody>\n",
       "</table>\n",
       "<p>5 rows × 217 columns</p>\n",
       "</div>"
      ],
      "text/plain": [
       "    weight_I_1  weight_I_2  weight_I_3  weight_I_4  weight_I_5  weight_I_6  \\\n",
       "ID                                                                           \n",
       "0         0.15        0.00        0.05        0.80        0.00         0.0   \n",
       "1         0.00        0.00        0.00        0.40        0.25         0.0   \n",
       "2         0.85        0.00        0.00        0.15        0.00         0.0   \n",
       "3         0.00        0.00        0.70        0.05        0.25         0.0   \n",
       "4         0.00        0.55        0.05        0.00        0.00         0.0   \n",
       "\n",
       "    weight_I_7  I_1_lag_20  I_1_lag_19  I_1_lag_18  ...   X_3_lag_9  \\\n",
       "ID                                                  ...               \n",
       "0         0.00       100.0  100.047398  100.058480  ...  101.383783   \n",
       "1         0.35       100.0   99.912339   99.960558  ...  100.911142   \n",
       "2         0.00       100.0   99.481681  100.199593  ...  100.373084   \n",
       "3         0.00       100.0  100.124618  100.023384  ...  100.844136   \n",
       "4         0.40       100.0  100.000000   99.407717  ...   99.665093   \n",
       "\n",
       "     X_3_lag_8   X_3_lag_7   X_3_lag_6   X_3_lag_5   X_3_lag_4   X_3_lag_3  \\\n",
       "ID                                                                           \n",
       "0   102.054669  102.375596  103.148605  103.148605  103.046483  103.075701   \n",
       "1   100.938707  100.993926  101.132016  100.745489  100.524617  100.303743   \n",
       "2   100.581716  100.313489  100.790251  101.013756  100.686030  100.686030   \n",
       "3   101.040072  101.055122  101.567682  101.703322  101.974603  101.733422   \n",
       "4    99.482389   99.604192  100.030499   99.847797  100.426310  100.426310   \n",
       "\n",
       "     X_3_lag_2   X_3_lag_1   X_3_lag_0  \n",
       "ID                                      \n",
       "0   103.134043  103.221509  103.338192  \n",
       "1   100.276090  100.303743  100.554527  \n",
       "2   100.060233   99.747384   99.970889  \n",
       "3   101.838963  102.080144  101.688272  \n",
       "4   100.822217  100.913521  100.852619  \n",
       "\n",
       "[5 rows x 217 columns]"
      ]
     },
     "execution_count": 339,
     "metadata": {},
     "output_type": "execute_result"
    }
   ],
   "source": [
    "data.head()"
   ]
  },
  {
   "cell_type": "code",
   "execution_count": 340,
   "metadata": {},
   "outputs": [
    {
     "name": "stdout",
     "output_type": "stream",
     "text": [
      "<class 'pandas.core.frame.DataFrame'>\n",
      "Int64Index: 10000 entries, 0 to 9999\n",
      "Columns: 217 entries, weight_I_1 to X_3_lag_0\n",
      "dtypes: float64(217)\n",
      "memory usage: 16.6 MB\n"
     ]
    }
   ],
   "source": [
    "data.info()"
   ]
  },
  {
   "cell_type": "code",
   "execution_count": 341,
   "metadata": {
    "collapsed": true
   },
   "outputs": [
    {
     "data": {
      "text/html": [
       "<div>\n",
       "<style scoped>\n",
       "    .dataframe tbody tr th:only-of-type {\n",
       "        vertical-align: middle;\n",
       "    }\n",
       "\n",
       "    .dataframe tbody tr th {\n",
       "        vertical-align: top;\n",
       "    }\n",
       "\n",
       "    .dataframe thead th {\n",
       "        text-align: right;\n",
       "    }\n",
       "</style>\n",
       "<table border=\"1\" class=\"dataframe\">\n",
       "  <thead>\n",
       "    <tr style=\"text-align: right;\">\n",
       "      <th></th>\n",
       "      <th>Target</th>\n",
       "    </tr>\n",
       "    <tr>\n",
       "      <th>ID</th>\n",
       "      <th></th>\n",
       "    </tr>\n",
       "  </thead>\n",
       "  <tbody>\n",
       "    <tr>\n",
       "      <th>0</th>\n",
       "      <td>-12.007941</td>\n",
       "    </tr>\n",
       "    <tr>\n",
       "      <th>1</th>\n",
       "      <td>2.294867</td>\n",
       "    </tr>\n",
       "    <tr>\n",
       "      <th>2</th>\n",
       "      <td>0.652308</td>\n",
       "    </tr>\n",
       "    <tr>\n",
       "      <th>3</th>\n",
       "      <td>2.412364</td>\n",
       "    </tr>\n",
       "    <tr>\n",
       "      <th>4</th>\n",
       "      <td>8.517471</td>\n",
       "    </tr>\n",
       "  </tbody>\n",
       "</table>\n",
       "</div>"
      ],
      "text/plain": [
       "       Target\n",
       "ID           \n",
       "0  -12.007941\n",
       "1    2.294867\n",
       "2    0.652308\n",
       "3    2.412364\n",
       "4    8.517471"
      ]
     },
     "execution_count": 341,
     "metadata": {},
     "output_type": "execute_result"
    }
   ],
   "source": [
    "target.head()"
   ]
  },
  {
   "cell_type": "code",
   "execution_count": 15,
   "metadata": {
    "collapsed": true
   },
   "outputs": [
    {
     "name": "stdout",
     "output_type": "stream",
     "text": [
      "<class 'pandas.core.frame.DataFrame'>\n",
      "Int64Index: 10000 entries, 0 to 9999\n",
      "Data columns (total 1 columns):\n",
      " #   Column  Non-Null Count  Dtype  \n",
      "---  ------  --------------  -----  \n",
      " 0   Target  10000 non-null  float64\n",
      "dtypes: float64(1)\n",
      "memory usage: 156.2 KB\n"
     ]
    }
   ],
   "source": [
    "target.info()"
   ]
  },
  {
   "cell_type": "code",
   "execution_count": 18,
   "metadata": {},
   "outputs": [
    {
     "name": "stdout",
     "output_type": "stream",
     "text": [
      "False False False\n"
     ]
    }
   ],
   "source": [
    "# Missing values ?\n",
    "print(True in data.isna(), True in target.isna(), True in test.isna())"
   ]
  },
  {
   "cell_type": "code",
   "execution_count": 19,
   "metadata": {
    "collapsed": true
   },
   "outputs": [
    {
     "name": "stdout",
     "output_type": "stream",
     "text": [
      "weight_I_1\n",
      "weight_I_2\n",
      "weight_I_3\n",
      "weight_I_4\n",
      "weight_I_5\n",
      "weight_I_6\n",
      "weight_I_7\n",
      "I_1_lag_20\n",
      "I_1_lag_19\n",
      "I_1_lag_18\n",
      "I_1_lag_17\n",
      "I_1_lag_16\n",
      "I_1_lag_15\n",
      "I_1_lag_14\n",
      "I_1_lag_13\n",
      "I_1_lag_12\n",
      "I_1_lag_11\n",
      "I_1_lag_10\n",
      "I_1_lag_9\n",
      "I_1_lag_8\n",
      "I_1_lag_7\n",
      "I_1_lag_6\n",
      "I_1_lag_5\n",
      "I_1_lag_4\n",
      "I_1_lag_3\n",
      "I_1_lag_2\n",
      "I_1_lag_1\n",
      "I_1_lag_0\n",
      "I_2_lag_20\n",
      "I_2_lag_19\n",
      "I_2_lag_18\n",
      "I_2_lag_17\n",
      "I_2_lag_16\n",
      "I_2_lag_15\n",
      "I_2_lag_14\n",
      "I_2_lag_13\n",
      "I_2_lag_12\n",
      "I_2_lag_11\n",
      "I_2_lag_10\n",
      "I_2_lag_9\n",
      "I_2_lag_8\n",
      "I_2_lag_7\n",
      "I_2_lag_6\n",
      "I_2_lag_5\n",
      "I_2_lag_4\n",
      "I_2_lag_3\n",
      "I_2_lag_2\n",
      "I_2_lag_1\n",
      "I_2_lag_0\n",
      "I_3_lag_20\n",
      "I_3_lag_19\n",
      "I_3_lag_18\n",
      "I_3_lag_17\n",
      "I_3_lag_16\n",
      "I_3_lag_15\n",
      "I_3_lag_14\n",
      "I_3_lag_13\n",
      "I_3_lag_12\n",
      "I_3_lag_11\n",
      "I_3_lag_10\n",
      "I_3_lag_9\n",
      "I_3_lag_8\n",
      "I_3_lag_7\n",
      "I_3_lag_6\n",
      "I_3_lag_5\n",
      "I_3_lag_4\n",
      "I_3_lag_3\n",
      "I_3_lag_2\n",
      "I_3_lag_1\n",
      "I_3_lag_0\n",
      "I_4_lag_20\n",
      "I_4_lag_19\n",
      "I_4_lag_18\n",
      "I_4_lag_17\n",
      "I_4_lag_16\n",
      "I_4_lag_15\n",
      "I_4_lag_14\n",
      "I_4_lag_13\n",
      "I_4_lag_12\n",
      "I_4_lag_11\n",
      "I_4_lag_10\n",
      "I_4_lag_9\n",
      "I_4_lag_8\n",
      "I_4_lag_7\n",
      "I_4_lag_6\n",
      "I_4_lag_5\n",
      "I_4_lag_4\n",
      "I_4_lag_3\n",
      "I_4_lag_2\n",
      "I_4_lag_1\n",
      "I_4_lag_0\n",
      "I_5_lag_20\n",
      "I_5_lag_19\n",
      "I_5_lag_18\n",
      "I_5_lag_17\n",
      "I_5_lag_16\n",
      "I_5_lag_15\n",
      "I_5_lag_14\n",
      "I_5_lag_13\n",
      "I_5_lag_12\n",
      "I_5_lag_11\n",
      "I_5_lag_10\n",
      "I_5_lag_9\n",
      "I_5_lag_8\n",
      "I_5_lag_7\n",
      "I_5_lag_6\n",
      "I_5_lag_5\n",
      "I_5_lag_4\n",
      "I_5_lag_3\n",
      "I_5_lag_2\n",
      "I_5_lag_1\n",
      "I_5_lag_0\n",
      "I_6_lag_20\n",
      "I_6_lag_19\n",
      "I_6_lag_18\n",
      "I_6_lag_17\n",
      "I_6_lag_16\n",
      "I_6_lag_15\n",
      "I_6_lag_14\n",
      "I_6_lag_13\n",
      "I_6_lag_12\n",
      "I_6_lag_11\n",
      "I_6_lag_10\n",
      "I_6_lag_9\n",
      "I_6_lag_8\n",
      "I_6_lag_7\n",
      "I_6_lag_6\n",
      "I_6_lag_5\n",
      "I_6_lag_4\n",
      "I_6_lag_3\n",
      "I_6_lag_2\n",
      "I_6_lag_1\n",
      "I_6_lag_0\n",
      "I_7_lag_20\n",
      "I_7_lag_19\n",
      "I_7_lag_18\n",
      "I_7_lag_17\n",
      "I_7_lag_16\n",
      "I_7_lag_15\n",
      "I_7_lag_14\n",
      "I_7_lag_13\n",
      "I_7_lag_12\n",
      "I_7_lag_11\n",
      "I_7_lag_10\n",
      "I_7_lag_9\n",
      "I_7_lag_8\n",
      "I_7_lag_7\n",
      "I_7_lag_6\n",
      "I_7_lag_5\n",
      "I_7_lag_4\n",
      "I_7_lag_3\n",
      "I_7_lag_2\n",
      "I_7_lag_1\n",
      "I_7_lag_0\n",
      "X_1_lag_20\n",
      "X_1_lag_19\n",
      "X_1_lag_18\n",
      "X_1_lag_17\n",
      "X_1_lag_16\n",
      "X_1_lag_15\n",
      "X_1_lag_14\n",
      "X_1_lag_13\n",
      "X_1_lag_12\n",
      "X_1_lag_11\n",
      "X_1_lag_10\n",
      "X_1_lag_9\n",
      "X_1_lag_8\n",
      "X_1_lag_7\n",
      "X_1_lag_6\n",
      "X_1_lag_5\n",
      "X_1_lag_4\n",
      "X_1_lag_3\n",
      "X_1_lag_2\n",
      "X_1_lag_1\n",
      "X_1_lag_0\n",
      "X_2_lag_20\n",
      "X_2_lag_19\n",
      "X_2_lag_18\n",
      "X_2_lag_17\n",
      "X_2_lag_16\n",
      "X_2_lag_15\n",
      "X_2_lag_14\n",
      "X_2_lag_13\n",
      "X_2_lag_12\n",
      "X_2_lag_11\n",
      "X_2_lag_10\n",
      "X_2_lag_9\n",
      "X_2_lag_8\n",
      "X_2_lag_7\n",
      "X_2_lag_6\n",
      "X_2_lag_5\n",
      "X_2_lag_4\n",
      "X_2_lag_3\n",
      "X_2_lag_2\n",
      "X_2_lag_1\n",
      "X_2_lag_0\n",
      "X_3_lag_20\n",
      "X_3_lag_19\n",
      "X_3_lag_18\n",
      "X_3_lag_17\n",
      "X_3_lag_16\n",
      "X_3_lag_15\n",
      "X_3_lag_14\n",
      "X_3_lag_13\n",
      "X_3_lag_12\n",
      "X_3_lag_11\n",
      "X_3_lag_10\n",
      "X_3_lag_9\n",
      "X_3_lag_8\n",
      "X_3_lag_7\n",
      "X_3_lag_6\n",
      "X_3_lag_5\n",
      "X_3_lag_4\n",
      "X_3_lag_3\n",
      "X_3_lag_2\n",
      "X_3_lag_1\n",
      "X_3_lag_0\n"
     ]
    }
   ],
   "source": [
    "# Let's see the columns to understand the construction of the dataset. \n",
    "# It begins with lag_20 and finishes with lag_0 for the 10 time series. \n",
    "# So lag_20 represent the fist day of a month set to a value of \"100\"\n",
    "for i in data.columns:\n",
    "    print(i)"
   ]
  },
  {
   "cell_type": "code",
   "execution_count": 20,
   "metadata": {},
   "outputs": [],
   "source": [
    "# There is up to 50 different samples (different weights) for the same time serie of 26 days \n",
    "# (21 days of training and 5 days of prediction)\n",
    "# given a train test of 10 000 sample, if there is exactly 50 different, we should obtain :\n",
    "# 10 000/50 = 200 different time series\n",
    "# Let's try to verify the exact number of different samples for a given time serie :"
   ]
  },
  {
   "cell_type": "code",
   "execution_count": 342,
   "metadata": {
    "collapsed": true
   },
   "outputs": [
    {
     "name": "stdout",
     "output_type": "stream",
     "text": [
      "0 200\n",
      "1 200\n",
      "2 200\n",
      "3 200\n",
      "4 200\n",
      "5 200\n",
      "6 200\n",
      "7 200\n",
      "8 200\n",
      "9 200\n",
      "10 200\n",
      "11 200\n",
      "12 200\n",
      "13 200\n",
      "14 200\n",
      "15 200\n",
      "16 200\n",
      "17 200\n",
      "18 200\n",
      "19 193\n",
      "20 1\n"
     ]
    }
   ],
   "source": [
    "# For macro indicator X_1 we can find our same 200 time series starting at lag_18\n",
    "for i in range(0,21):\n",
    "    print(i,data[\"X_1_lag_\"+str(i)].nunique())"
   ]
  },
  {
   "cell_type": "code",
   "execution_count": 343,
   "metadata": {
    "collapsed": true
   },
   "outputs": [
    {
     "name": "stdout",
     "output_type": "stream",
     "text": [
      "0 200\n",
      "1 200\n",
      "2 200\n",
      "3 200\n",
      "4 196\n",
      "5 194\n",
      "6 192\n",
      "7 191\n",
      "8 191\n",
      "9 184\n",
      "10 181\n",
      "11 181\n",
      "12 179\n",
      "13 174\n",
      "14 173\n",
      "15 172\n",
      "16 171\n",
      "17 169\n",
      "18 164\n",
      "19 157\n",
      "20 1\n"
     ]
    }
   ],
   "source": [
    "# Double check with for example I_7 \n",
    "for i in range(0,21):\n",
    "    print(i,data[\"I_7_lag_\"+str(i)].nunique())"
   ]
  },
  {
   "cell_type": "markdown",
   "metadata": {},
   "source": [
    "## Creating the customized cross_val "
   ]
  },
  {
   "cell_type": "code",
   "execution_count": 344,
   "metadata": {},
   "outputs": [],
   "source": [
    "# A difficulty is that the different samples for a same time serie are shuffled into the dataset. \n",
    "# So we can not just randomly split the dataset into a train/test datasets. \n",
    "# We have to make sure to have different time series in train and test.\n",
    "# So let's make our own cross_val. "
   ]
  },
  {
   "cell_type": "code",
   "execution_count": 61,
   "metadata": {},
   "outputs": [],
   "source": [
    "# Let's split train/val by values of X1_lag_0, as we've seen there a 200 differents\n",
    "values = data.X_1_lag_0.unique()\n",
    "train, val = train_test_split(values, test_size=0.4, random_state=42)"
   ]
  },
  {
   "cell_type": "code",
   "execution_count": 62,
   "metadata": {},
   "outputs": [
    {
     "data": {
      "text/plain": [
       "(120,)"
      ]
     },
     "execution_count": 62,
     "metadata": {},
     "output_type": "execute_result"
    }
   ],
   "source": [
    "train.shape"
   ]
  },
  {
   "cell_type": "code",
   "execution_count": 63,
   "metadata": {},
   "outputs": [
    {
     "data": {
      "text/plain": [
       "(80,)"
      ]
     },
     "execution_count": 63,
     "metadata": {},
     "output_type": "execute_result"
    }
   ],
   "source": [
    "val.shape"
   ]
  },
  {
   "cell_type": "code",
   "execution_count": 64,
   "metadata": {},
   "outputs": [],
   "source": [
    "full_data = data.copy()"
   ]
  },
  {
   "cell_type": "code",
   "execution_count": 65,
   "metadata": {},
   "outputs": [],
   "source": [
    "full_data[\"target\"] = target.Target"
   ]
  },
  {
   "cell_type": "code",
   "execution_count": 66,
   "metadata": {},
   "outputs": [],
   "source": [
    "df_train = full_data[data.X_1_lag_0.isin(train)]\n",
    "df_val = full_data[data.X_1_lag_0.isin(val)]"
   ]
  },
  {
   "cell_type": "code",
   "execution_count": 841,
   "metadata": {
    "collapsed": true
   },
   "outputs": [
    {
     "name": "stdout",
     "output_type": "stream",
     "text": [
      "<class 'pandas.core.frame.DataFrame'>\n",
      "Int64Index: 7000 entries, 0 to 9999\n",
      "Columns: 218 entries, weight_I_1 to target\n",
      "dtypes: float64(218)\n",
      "memory usage: 11.7 MB\n"
     ]
    }
   ],
   "source": [
    "df_train.info()"
   ]
  },
  {
   "cell_type": "code",
   "execution_count": 842,
   "metadata": {
    "collapsed": true
   },
   "outputs": [
    {
     "name": "stdout",
     "output_type": "stream",
     "text": [
      "<class 'pandas.core.frame.DataFrame'>\n",
      "Int64Index: 3000 entries, 1 to 9998\n",
      "Columns: 218 entries, weight_I_1 to target\n",
      "dtypes: float64(218)\n",
      "memory usage: 5.0 MB\n"
     ]
    }
   ],
   "source": [
    "df_val.info()"
   ]
  },
  {
   "cell_type": "code",
   "execution_count": 67,
   "metadata": {},
   "outputs": [],
   "source": [
    "X_train = df_train.drop([\"target\"],axis=1)\n",
    "y_train = df_train.loc[:,[\"target\"]]"
   ]
  },
  {
   "cell_type": "code",
   "execution_count": 68,
   "metadata": {},
   "outputs": [],
   "source": [
    "X_val = df_val.drop([\"target\"],axis=1)\n",
    "y_val = df_val.loc[:,[\"target\"]]"
   ]
  },
  {
   "cell_type": "markdown",
   "metadata": {},
   "source": [
    "## Benchmark"
   ]
  },
  {
   "cell_type": "code",
   "execution_count": 69,
   "metadata": {},
   "outputs": [],
   "source": [
    "# Let's recreate the benchmark score\n",
    "# The benchmark is the average Sharpe ratio of the training period\n",
    "# The metric is a L1 norm with values smoothed by a fonction : f(x) = sig(x)*exp(-1/abs(x))\n",
    "\n",
    "#avg = y_train.target.mean()\n",
    "avg = target.Target.mean()\n",
    "X_train_benchmark = X_train.copy()\n",
    "X_val_benchmark = X_val.copy()\n",
    "X_train_benchmark[\"pred_benchmark\"] = np.sign(avg)*np.exp(-1/abs(avg))\n",
    "X_val_benchmark[\"pred_benchmark\"] = np.sign(avg)*np.exp(-1/abs(avg))\n",
    "y_train[\"smoothed\"] = np.sign(y_train[\"target\"])*np.exp(-1/abs(y_train[\"target\"]))\n",
    "y_val[\"smoothed\"] = np.sign(y_val[\"target\"])*np.exp(-1/abs(y_val[\"target\"]))"
   ]
  },
  {
   "cell_type": "code",
   "execution_count": 70,
   "metadata": {},
   "outputs": [
    {
     "name": "stdout",
     "output_type": "stream",
     "text": [
      "The average Sharpe ratio over the training set is : 1.2883218600109478\n",
      "Benchmark train score: 0.5866126627571973, Benchmark validation score: 0.6074783332872783\n"
     ]
    }
   ],
   "source": [
    "benchmark_train_score = mean_absolute_error(y_train[\"smoothed\"], X_train_benchmark[\"pred_benchmark\"])\n",
    "benchmark_val_score =  mean_absolute_error(y_val[\"smoothed\"], X_val_benchmark[\"pred_benchmark\"])\n",
    "print(\"The average Sharpe ratio over the training set is :\",avg)\n",
    "print(\"Benchmark train score: {}, Benchmark validation score: {}\".format(benchmark_train_score, benchmark_val_score))"
   ]
  },
  {
   "cell_type": "markdown",
   "metadata": {},
   "source": [
    "## Decision Tree"
   ]
  },
  {
   "cell_type": "code",
   "execution_count": 40,
   "metadata": {},
   "outputs": [
    {
     "data": {
      "text/plain": [
       "DecisionTreeRegressor(ccp_alpha=0.0, criterion='mae', max_depth=2,\n",
       "                      max_features=None, max_leaf_nodes=None,\n",
       "                      min_impurity_decrease=0.0, min_impurity_split=None,\n",
       "                      min_samples_leaf=1, min_samples_split=2,\n",
       "                      min_weight_fraction_leaf=0.0, presort='deprecated',\n",
       "                      random_state=None, splitter='best')"
      ]
     },
     "execution_count": 40,
     "metadata": {},
     "output_type": "execute_result"
    }
   ],
   "source": [
    "dtr = DecisionTreeRegressor(criterion = \"mae\", max_depth=2)\n",
    "dtr.fit(X_train, y_train.smoothed)"
   ]
  },
  {
   "cell_type": "code",
   "execution_count": 41,
   "metadata": {},
   "outputs": [],
   "source": [
    "y_pred_train = dtr.predict(X_train)\n",
    "y_pred_val = dtr.predict(X_val)"
   ]
  },
  {
   "cell_type": "code",
   "execution_count": 42,
   "metadata": {},
   "outputs": [
    {
     "name": "stdout",
     "output_type": "stream",
     "text": [
      "0.5183416114713844 0.6181039408186713\n"
     ]
    }
   ],
   "source": [
    "dtr_train_score = mean_absolute_error(y_train.smoothed, y_pred_train)\n",
    "dtr_val_score = mean_absolute_error(y_val.smoothed, y_pred_val)\n",
    "print(dtr_train_score, dtr_val_score)"
   ]
  },
  {
   "cell_type": "code",
   "execution_count": 424,
   "metadata": {},
   "outputs": [],
   "source": [
    "def plot_feature_importances(model, Frame):\n",
    "    plt.clf()\n",
    "    n_features=len(Frame.columns)\n",
    "    plt.figure(figsize=(10,100))\n",
    "    plt.barh(range(n_features), model.feature_importances_, align='center')\n",
    "    plt.yticks(np.arange(n_features), Frame.columns)\n",
    "    plt.xlabel(\"Feature importance\")\n",
    "    plt.ylabel(\"Feature\")\n",
    "    plt.ylim(-1, n_features)"
   ]
  },
  {
   "cell_type": "markdown",
   "metadata": {},
   "source": [
    "### Linear Regressions"
   ]
  },
  {
   "cell_type": "code",
   "execution_count": 71,
   "metadata": {},
   "outputs": [],
   "source": [
    "sc_x = StandardScaler()\n",
    "X_train_norm = sc_x.fit_transform(X_train)\n",
    "X_val_norm = sc_x.transform(X_val)"
   ]
  },
  {
   "cell_type": "markdown",
   "metadata": {},
   "source": [
    "#### ElasticNet"
   ]
  },
  {
   "cell_type": "code",
   "execution_count": 72,
   "metadata": {},
   "outputs": [
    {
     "data": {
      "text/plain": [
       "ElasticNet(alpha=0.7, copy_X=True, fit_intercept=True, l1_ratio=0,\n",
       "           max_iter=1000, normalize=False, positive=False, precompute=False,\n",
       "           random_state=None, selection='cyclic', tol=0.0001, warm_start=False)"
      ]
     },
     "execution_count": 72,
     "metadata": {},
     "output_type": "execute_result"
    }
   ],
   "source": [
    "elastic_net = ElasticNet(alpha= 0.7, l1_ratio= 0)\n",
    "elastic_net.fit(X_train_norm, y_train.smoothed)"
   ]
  },
  {
   "cell_type": "code",
   "execution_count": 73,
   "metadata": {},
   "outputs": [],
   "source": [
    "elast_pred_train = elastic_net.predict(X_train_norm)\n",
    "elast_pred_val = elastic_net.predict(X_val_norm)"
   ]
  },
  {
   "cell_type": "code",
   "execution_count": 87,
   "metadata": {},
   "outputs": [],
   "source": [
    "X_train[\"pred\"] = elast_pred_train\n",
    "X_val[\"pred\"] = elast_pred_val"
   ]
  },
  {
   "cell_type": "code",
   "execution_count": 88,
   "metadata": {},
   "outputs": [],
   "source": [
    "X_train[\"fpred\"] = np.sign(X_train[\"pred\"])*np.exp(-1/abs(X_train[\"pred\"]))\n",
    "X_val[\"fpred\"] = np.sign(X_val[\"pred\"])*np.exp(-1/abs(X_val[\"pred\"]))"
   ]
  },
  {
   "cell_type": "code",
   "execution_count": 89,
   "metadata": {},
   "outputs": [
    {
     "name": "stdout",
     "output_type": "stream",
     "text": [
      "0.5944567254465342 0.6110953027355214\n"
     ]
    }
   ],
   "source": [
    "print(mean_absolute_error(X_train.fpred, y_train.smoothed), mean_absolute_error(X_val.fpred, y_val.smoothed))\n",
    "X_train = X_train.drop([\"pred\",\"fpred\"], axis=1)\n",
    "X_val = X_val.drop([\"pred\",\"fpred\"], axis=1)"
   ]
  },
  {
   "cell_type": "code",
   "execution_count": 144,
   "metadata": {},
   "outputs": [
    {
     "data": {
      "text/plain": [
       "GridSearchCV(cv=5, error_score=nan,\n",
       "             estimator=ElasticNet(alpha=1.0, copy_X=True, fit_intercept=True,\n",
       "                                  l1_ratio=0.5, max_iter=1000, normalize=False,\n",
       "                                  positive=False, precompute=False,\n",
       "                                  random_state=None, selection='cyclic',\n",
       "                                  tol=0.0001, warm_start=False),\n",
       "             iid='deprecated', n_jobs=None,\n",
       "             param_grid={'alpha': [0.01, 1, 5, 10], 'l1_ratio': [0, 1]},\n",
       "             pre_dispatch='2*n_jobs', refit=True, return_train_score=False,\n",
       "             scoring=None, verbose=0)"
      ]
     },
     "execution_count": 144,
     "metadata": {},
     "output_type": "execute_result"
    }
   ],
   "source": [
    "params = {'alpha' : [0.01, 1, 5, 10], 'l1_ratio' : [0, 1]}\n",
    "reg = ElasticNet()\n",
    "grid = GridSearchCV(reg,param_grid=params, cv = 5)\n",
    "\n",
    "grid.fit(X_train_norm, y_train.smoothed)"
   ]
  },
  {
   "cell_type": "code",
   "execution_count": 145,
   "metadata": {},
   "outputs": [
    {
     "data": {
      "text/plain": [
       "{'alpha': 0.01, 'l1_ratio': 0}"
      ]
     },
     "execution_count": 145,
     "metadata": {},
     "output_type": "execute_result"
    }
   ],
   "source": [
    "grid.best_params_"
   ]
  },
  {
   "cell_type": "code",
   "execution_count": 146,
   "metadata": {},
   "outputs": [
    {
     "name": "stdout",
     "output_type": "stream",
     "text": [
      "0.40136633838575686\n"
     ]
    },
    {
     "data": {
      "text/plain": [
       "0.7011637666015502"
      ]
     },
     "execution_count": 146,
     "metadata": {},
     "output_type": "execute_result"
    }
   ],
   "source": [
    "print(mean_absolute_error(grid.predict(X_train_norm), y_train.smoothed))\n",
    "mean_absolute_error(grid.predict(X_val_norm), y_val.smoothed)"
   ]
  },
  {
   "cell_type": "markdown",
   "metadata": {},
   "source": [
    "#### ElasticNet with feature selection pipeline and GridSearch"
   ]
  },
  {
   "cell_type": "code",
   "execution_count": 162,
   "metadata": {},
   "outputs": [],
   "source": [
    "pipeline = Pipeline(\n",
    "    [\n",
    "        ('selector', SelectKBest(f_regression)),\n",
    "        ('model',ElasticNet())\n",
    "    ]\n",
    ")"
   ]
  },
  {
   "cell_type": "code",
   "execution_count": 163,
   "metadata": {},
   "outputs": [],
   "source": [
    "params_elasticnet = {'selector__k':[10,100,150,200,215], 'model__alpha' : [0.01, 1, 5, 10], 'model__l1_ratio' : [0, 1]}"
   ]
  },
  {
   "cell_type": "code",
   "execution_count": 164,
   "metadata": {},
   "outputs": [],
   "source": [
    "search = GridSearchCV(\n",
    "    estimator = pipeline,\n",
    "    param_grid = params_elasticnet,\n",
    "    scoring = 'neg_mean_absolute_error',\n",
    "    cv = 5\n",
    ")"
   ]
  },
  {
   "cell_type": "code",
   "execution_count": 165,
   "metadata": {
    "collapsed": true
   },
   "outputs": [
    {
     "data": {
      "text/plain": [
       "GridSearchCV(cv=5, error_score=nan,\n",
       "             estimator=Pipeline(memory=None,\n",
       "                                steps=[('selector',\n",
       "                                        SelectKBest(k=10,\n",
       "                                                    score_func=<function f_regression at 0x1a1e2f59e0>)),\n",
       "                                       ('model',\n",
       "                                        ElasticNet(alpha=1.0, copy_X=True,\n",
       "                                                   fit_intercept=True,\n",
       "                                                   l1_ratio=0.5, max_iter=1000,\n",
       "                                                   normalize=False,\n",
       "                                                   positive=False,\n",
       "                                                   precompute=False,\n",
       "                                                   random_state=None,\n",
       "                                                   selection='cyclic',\n",
       "                                                   tol=0.0001,\n",
       "                                                   warm_start=False))],\n",
       "                                verbose=False),\n",
       "             iid='deprecated', n_jobs=None,\n",
       "             param_grid={'model__alpha': [0.01, 1, 5, 10],\n",
       "                         'model__l1_ratio': [0, 1],\n",
       "                         'selector__k': [10, 100, 150, 200, 215]},\n",
       "             pre_dispatch='2*n_jobs', refit=True, return_train_score=False,\n",
       "             scoring='neg_mean_absolute_error', verbose=0)"
      ]
     },
     "execution_count": 165,
     "metadata": {},
     "output_type": "execute_result"
    }
   ],
   "source": [
    "search.fit(X_train_norm, y_train.smoothed)"
   ]
  },
  {
   "cell_type": "code",
   "execution_count": 166,
   "metadata": {},
   "outputs": [
    {
     "data": {
      "text/plain": [
       "{'model__alpha': 0.01, 'model__l1_ratio': 0, 'selector__k': 215}"
      ]
     },
     "execution_count": 166,
     "metadata": {},
     "output_type": "execute_result"
    }
   ],
   "source": [
    "search.best_params_"
   ]
  },
  {
   "cell_type": "code",
   "execution_count": 167,
   "metadata": {},
   "outputs": [
    {
     "data": {
      "text/plain": [
       "-0.4082255358183201"
      ]
     },
     "execution_count": 167,
     "metadata": {},
     "output_type": "execute_result"
    }
   ],
   "source": [
    "search.best_score_"
   ]
  },
  {
   "cell_type": "code",
   "execution_count": 168,
   "metadata": {},
   "outputs": [
    {
     "name": "stdout",
     "output_type": "stream",
     "text": [
      "0.40136633838575686\n",
      "0.7011637666015502\n"
     ]
    }
   ],
   "source": [
    "print(mean_absolute_error(search.predict(X_train_norm), y_train.smoothed))\n",
    "print(mean_absolute_error(search.predict(X_val_norm), y_val.smoothed))"
   ]
  },
  {
   "cell_type": "markdown",
   "metadata": {},
   "source": [
    "## RNN "
   ]
  },
  {
   "cell_type": "markdown",
   "metadata": {},
   "source": [
    "### LSTM Univariate model / xgboost"
   ]
  },
  {
   "cell_type": "code",
   "execution_count": 852,
   "metadata": {},
   "outputs": [],
   "source": [
    "X_train_I1 = X_train.loc[:,\"I_1_lag_20\":\"I_1_lag_0\"]\n",
    "X_train_I2 = X_train.loc[:,\"I_2_lag_20\":\"I_2_lag_0\"]\n",
    "X_train_I3 = X_train.loc[:,\"I_3_lag_20\":\"I_3_lag_0\"]\n",
    "X_train_I4 = X_train.loc[:,\"I_4_lag_20\":\"I_4_lag_0\"]\n",
    "X_train_I5 = X_train.loc[:,\"I_5_lag_20\":\"I_5_lag_0\"]\n",
    "X_train_I6 = X_train.loc[:,\"I_6_lag_20\":\"I_6_lag_0\"]\n",
    "X_train_I7 = X_train.loc[:,\"I_7_lag_20\":\"I_7_lag_0\"]"
   ]
  },
  {
   "cell_type": "code",
   "execution_count": 853,
   "metadata": {},
   "outputs": [],
   "source": [
    "X_val_I1 = X_val.loc[:,\"I_1_lag_20\":\"I_1_lag_0\"]\n",
    "X_val_I2 = X_val.loc[:,\"I_2_lag_20\":\"I_2_lag_0\"]\n",
    "X_val_I3 = X_val.loc[:,\"I_3_lag_20\":\"I_3_lag_0\"]\n",
    "X_val_I4 = X_val.loc[:,\"I_4_lag_20\":\"I_4_lag_0\"]\n",
    "X_val_I5 = X_val.loc[:,\"I_5_lag_20\":\"I_5_lag_0\"]\n",
    "X_val_I6 = X_val.loc[:,\"I_6_lag_20\":\"I_6_lag_0\"]\n",
    "X_val_I7 = X_val.loc[:,\"I_7_lag_20\":\"I_7_lag_0\"]"
   ]
  },
  {
   "cell_type": "code",
   "execution_count": 947,
   "metadata": {},
   "outputs": [],
   "source": [
    "X_test_I1 = test.loc[:,\"I_1_lag_20\":\"I_1_lag_0\"]\n",
    "X_test_I2 = test.loc[:,\"I_2_lag_20\":\"I_2_lag_0\"]\n",
    "X_test_I3 = test.loc[:,\"I_3_lag_20\":\"I_3_lag_0\"]\n",
    "X_test_I4 = test.loc[:,\"I_4_lag_20\":\"I_4_lag_0\"]\n",
    "X_test_I5 = test.loc[:,\"I_5_lag_20\":\"I_5_lag_0\"]\n",
    "X_test_I6 = test.loc[:,\"I_6_lag_20\":\"I_6_lag_0\"]\n",
    "X_test_I7 = test.loc[:,\"I_7_lag_20\":\"I_7_lag_0\"]"
   ]
  },
  {
   "cell_type": "code",
   "execution_count": 854,
   "metadata": {},
   "outputs": [],
   "source": [
    "X_train_I1 = sc_x.fit_transform(X_train_I1)\n",
    "X_train_I2 = sc_x.fit_transform(X_train_I2)\n",
    "X_train_I3 = sc_x.fit_transform(X_train_I3)\n",
    "X_train_I4 = sc_x.fit_transform(X_train_I4)\n",
    "X_train_I5 = sc_x.fit_transform(X_train_I5)\n",
    "X_train_I6 = sc_x.fit_transform(X_train_I6)\n",
    "X_train_I7 = sc_x.fit_transform(X_train_I7)"
   ]
  },
  {
   "cell_type": "code",
   "execution_count": 855,
   "metadata": {},
   "outputs": [],
   "source": [
    "X_val_I1 = sc_x.transform(X_val_I1)\n",
    "X_val_I2 = sc_x.transform(X_val_I2)\n",
    "X_val_I3 = sc_x.transform(X_val_I3)\n",
    "X_val_I4 = sc_x.transform(X_val_I4)\n",
    "X_val_I5 = sc_x.transform(X_val_I5)\n",
    "X_val_I6 = sc_x.transform(X_val_I6)\n",
    "X_val_I7 = sc_x.transform(X_val_I7)"
   ]
  },
  {
   "cell_type": "code",
   "execution_count": 948,
   "metadata": {},
   "outputs": [],
   "source": [
    "X_test_I1 = sc_x.transform(X_test_I1)\n",
    "X_test_I2 = sc_x.transform(X_test_I2)\n",
    "X_test_I3 = sc_x.transform(X_test_I3)\n",
    "X_test_I4 = sc_x.transform(X_test_I4)\n",
    "X_test_I5 = sc_x.transform(X_test_I5)\n",
    "X_test_I6 = sc_x.transform(X_test_I6)\n",
    "X_test_I7 = sc_x.transform(X_test_I7)"
   ]
  },
  {
   "cell_type": "code",
   "execution_count": 856,
   "metadata": {},
   "outputs": [],
   "source": [
    "X_train_I1 = np.expand_dims(X_train_I1, axis=-1)\n",
    "X_train_I2 = np.expand_dims(X_train_I2, axis=-1)\n",
    "X_train_I3 = np.expand_dims(X_train_I3, axis=-1)\n",
    "X_train_I4 = np.expand_dims(X_train_I4, axis=-1)\n",
    "X_train_I5 = np.expand_dims(X_train_I5, axis=-1)\n",
    "X_train_I6 = np.expand_dims(X_train_I6, axis=-1)\n",
    "X_train_I7 = np.expand_dims(X_train_I7, axis=-1)"
   ]
  },
  {
   "cell_type": "code",
   "execution_count": 857,
   "metadata": {},
   "outputs": [],
   "source": [
    "X_val_I1 = np.expand_dims(X_val_I1, axis=-1)\n",
    "X_val_I2 = np.expand_dims(X_val_I2, axis=-1)\n",
    "X_val_I3 = np.expand_dims(X_val_I3, axis=-1)\n",
    "X_val_I4 = np.expand_dims(X_val_I4, axis=-1)\n",
    "X_val_I5 = np.expand_dims(X_val_I5, axis=-1)\n",
    "X_val_I6 = np.expand_dims(X_val_I6, axis=-1)\n",
    "X_val_I7 = np.expand_dims(X_val_I7, axis=-1)"
   ]
  },
  {
   "cell_type": "code",
   "execution_count": 950,
   "metadata": {},
   "outputs": [],
   "source": [
    "X_test_I1 = np.expand_dims(X_test_I1, axis=-1)\n",
    "X_test_I2 = np.expand_dims(X_test_I2, axis=-1)\n",
    "X_test_I3 = np.expand_dims(X_test_I3, axis=-1)\n",
    "X_test_I4 = np.expand_dims(X_test_I4, axis=-1)\n",
    "X_test_I5 = np.expand_dims(X_test_I5, axis=-1)\n",
    "X_test_I6 = np.expand_dims(X_test_I6, axis=-1)\n",
    "X_test_I7 = np.expand_dims(X_test_I7, axis=-1)"
   ]
  },
  {
   "cell_type": "code",
   "execution_count": 858,
   "metadata": {},
   "outputs": [],
   "source": [
    "BATCH_SIZE = 158\n",
    "BUFFER_SIZE = 10000"
   ]
  },
  {
   "cell_type": "code",
   "execution_count": 859,
   "metadata": {},
   "outputs": [],
   "source": [
    "train_univariate_1 = tf.data.Dataset.from_tensor_slices((X_train_I1, y_train.smoothed)).cache().shuffle(BUFFER_SIZE).batch(BATCH_SIZE).repeat()\n",
    "train_univariate_2 = tf.data.Dataset.from_tensor_slices((X_train_I2, y_train.smoothed)).cache().shuffle(BUFFER_SIZE).batch(BATCH_SIZE).repeat()\n",
    "train_univariate_3 = tf.data.Dataset.from_tensor_slices((X_train_I3, y_train.smoothed)).cache().shuffle(BUFFER_SIZE).batch(BATCH_SIZE).repeat()\n",
    "train_univariate_4 = tf.data.Dataset.from_tensor_slices((X_train_I4, y_train.smoothed)).cache().shuffle(BUFFER_SIZE).batch(BATCH_SIZE).repeat()\n",
    "train_univariate_5 = tf.data.Dataset.from_tensor_slices((X_train_I5, y_train.smoothed)).cache().shuffle(BUFFER_SIZE).batch(BATCH_SIZE).repeat()\n",
    "train_univariate_6 = tf.data.Dataset.from_tensor_slices((X_train_I6, y_train.smoothed)).cache().shuffle(BUFFER_SIZE).batch(BATCH_SIZE).repeat()\n",
    "train_univariate_7 = tf.data.Dataset.from_tensor_slices((X_train_I7, y_train.smoothed)).cache().shuffle(BUFFER_SIZE).batch(BATCH_SIZE).repeat()\n"
   ]
  },
  {
   "cell_type": "code",
   "execution_count": 860,
   "metadata": {},
   "outputs": [],
   "source": [
    "val_univariate_1 = tf.data.Dataset.from_tensor_slices((X_val_I1, y_val.smoothed)).batch(BATCH_SIZE).repeat()\n",
    "val_univariate_2 = tf.data.Dataset.from_tensor_slices((X_val_I2, y_val.smoothed)).batch(BATCH_SIZE).repeat()\n",
    "val_univariate_3 = tf.data.Dataset.from_tensor_slices((X_val_I3, y_val.smoothed)).batch(BATCH_SIZE).repeat()\n",
    "val_univariate_4 = tf.data.Dataset.from_tensor_slices((X_val_I4, y_val.smoothed)).batch(BATCH_SIZE).repeat()\n",
    "val_univariate_5 = tf.data.Dataset.from_tensor_slices((X_val_I5, y_val.smoothed)).batch(BATCH_SIZE).repeat()\n",
    "val_univariate_6 = tf.data.Dataset.from_tensor_slices((X_val_I6, y_val.smoothed)).batch(BATCH_SIZE).repeat()\n",
    "val_univariate_7 = tf.data.Dataset.from_tensor_slices((X_val_I7, y_val.smoothed)).batch(BATCH_SIZE).repeat()"
   ]
  },
  {
   "cell_type": "code",
   "execution_count": 861,
   "metadata": {},
   "outputs": [
    {
     "name": "stdout",
     "output_type": "stream",
     "text": [
      "<TakeDataset shapes: ((None, 21, 1), (None,)), types: (tf.float64, tf.float64)>\n"
     ]
    },
    {
     "data": {
      "text/plain": [
       "(7000,)"
      ]
     },
     "execution_count": 861,
     "metadata": {},
     "output_type": "execute_result"
    }
   ],
   "source": [
    "print(val_univariate_1.take(1))\n",
    "y_train.smoothed.shape"
   ]
  },
  {
   "cell_type": "code",
   "execution_count": 862,
   "metadata": {},
   "outputs": [],
   "source": [
    "def R2(y_true, y_pred):\n",
    "    from keras import backend as K\n",
    "    SS_res =  K.sum(K.square(y_true - y_pred))\n",
    "    SS_tot = K.sum(K.square(y_true - K.mean(y_true)))\n",
    "    return (1 - SS_res/(SS_tot + K.epsilon()))"
   ]
  },
  {
   "cell_type": "code",
   "execution_count": 863,
   "metadata": {},
   "outputs": [],
   "source": [
    "simple_lstm_model_1 = tf.keras.models.Sequential([\n",
    "    tf.keras.layers.LSTM(64, input_shape=X_train_I1.shape[-2:]),\n",
    "    tf.keras.layers.Dense(1)])\n",
    "simple_lstm_model_2 = tf.keras.models.Sequential([\n",
    "    tf.keras.layers.LSTM(64, input_shape=X_train_I1.shape[-2:]),\n",
    "    tf.keras.layers.Dense(1)])\n",
    "simple_lstm_model_3 = tf.keras.models.Sequential([\n",
    "    tf.keras.layers.LSTM(64, input_shape=X_train_I1.shape[-2:]),\n",
    "    tf.keras.layers.Dense(1)])\n",
    "simple_lstm_model_4 = tf.keras.models.Sequential([\n",
    "    tf.keras.layers.LSTM(64, input_shape=X_train_I1.shape[-2:]),\n",
    "    tf.keras.layers.Dense(1)])\n",
    "simple_lstm_model_5 = tf.keras.models.Sequential([\n",
    "    tf.keras.layers.LSTM(64, input_shape=X_train_I1.shape[-2:]),\n",
    "    tf.keras.layers.Dense(1)])\n",
    "simple_lstm_model_6 = tf.keras.models.Sequential([\n",
    "    tf.keras.layers.LSTM(64, input_shape=X_train_I1.shape[-2:]),\n",
    "    tf.keras.layers.Dense(1)])\n",
    "simple_lstm_model_7 = tf.keras.models.Sequential([\n",
    "    tf.keras.layers.LSTM(64, input_shape=X_train_I1.shape[-2:]),\n",
    "    tf.keras.layers.Dense(1)])"
   ]
  },
  {
   "cell_type": "code",
   "execution_count": 864,
   "metadata": {},
   "outputs": [],
   "source": [
    "simple_lstm_model_1.compile(optimizer='adam', loss='mae', metrics=[R2])\n",
    "simple_lstm_model_2.compile(optimizer='adam', loss='mae', metrics=[R2])\n",
    "simple_lstm_model_3.compile(optimizer='adam', loss='mae', metrics=[R2])\n",
    "simple_lstm_model_4.compile(optimizer='adam', loss='mae', metrics=[R2])\n",
    "simple_lstm_model_5.compile(optimizer='adam', loss='mae', metrics=[R2])\n",
    "simple_lstm_model_6.compile(optimizer='adam', loss='mae', metrics=[R2])\n",
    "simple_lstm_model_7.compile(optimizer='adam', loss='mae', metrics=[R2])"
   ]
  },
  {
   "cell_type": "code",
   "execution_count": 865,
   "metadata": {
    "scrolled": true
   },
   "outputs": [
    {
     "name": "stdout",
     "output_type": "stream",
     "text": [
      "(158, 1)\n"
     ]
    }
   ],
   "source": [
    "for x, _ in val_univariate.take(1):\n",
    "    print(simple_lstm_model.predict(x).shape)"
   ]
  },
  {
   "cell_type": "code",
   "execution_count": 866,
   "metadata": {},
   "outputs": [],
   "source": [
    "EVALUATION_INTERVAL = 10\n",
    "EPOCHS = 10"
   ]
  },
  {
   "cell_type": "code",
   "execution_count": 867,
   "metadata": {
    "collapsed": true
   },
   "outputs": [
    {
     "name": "stdout",
     "output_type": "stream",
     "text": [
      "Epoch 1/10\n",
      "10/10 [==============================] - 1s 133ms/step - loss: 0.6236 - R2: -0.0456 - val_loss: 0.5814 - val_R2: -0.0293\n",
      "Epoch 2/10\n",
      "10/10 [==============================] - 1s 92ms/step - loss: 0.6251 - R2: -0.0802 - val_loss: 0.5772 - val_R2: -0.0592\n",
      "Epoch 3/10\n",
      "10/10 [==============================] - 1s 88ms/step - loss: 0.5794 - R2: -0.0316 - val_loss: 0.5725 - val_R2: -0.0516\n",
      "Epoch 4/10\n",
      "10/10 [==============================] - 1s 109ms/step - loss: 0.6005 - R2: -0.0718 - val_loss: 0.5704 - val_R2: -0.0675\n",
      "Epoch 5/10\n",
      "10/10 [==============================] - 1s 94ms/step - loss: 0.5767 - R2: -0.0390 - val_loss: 0.5683 - val_R2: -0.0967\n",
      "Epoch 6/10\n",
      "10/10 [==============================] - 1s 90ms/step - loss: 0.5794 - R2: -0.0679 - val_loss: 0.5670 - val_R2: -0.1097\n",
      "Epoch 7/10\n",
      "10/10 [==============================] - 1s 90ms/step - loss: 0.5704 - R2: -0.0746 - val_loss: 0.5663 - val_R2: -0.1246\n",
      "Epoch 8/10\n",
      "10/10 [==============================] - 1s 88ms/step - loss: 0.5924 - R2: -0.0724 - val_loss: 0.5656 - val_R2: -0.0420\n",
      "Epoch 9/10\n",
      "10/10 [==============================] - 1s 90ms/step - loss: 0.5773 - R2: -0.0175 - val_loss: 0.5644 - val_R2: -0.0843\n",
      "Epoch 10/10\n",
      "10/10 [==============================] - 1s 99ms/step - loss: 0.5694 - R2: -0.0676 - val_loss: 0.5710 - val_R2: -0.2353\n",
      "-----------------------------------------------------------------------\n",
      "Epoch 1/10\n",
      "10/10 [==============================] - 2s 160ms/step - loss: 0.6242 - R2: -0.0575 - val_loss: 0.5772 - val_R2: -0.0282\n",
      "Epoch 2/10\n",
      "10/10 [==============================] - 1s 101ms/step - loss: 0.5944 - R2: -0.0422 - val_loss: 0.5841 - val_R2: -0.1294\n",
      "Epoch 3/10\n",
      "10/10 [==============================] - 1s 102ms/step - loss: 0.6050 - R2: -0.1084 - val_loss: 0.5733 - val_R2: -0.0453\n",
      "Epoch 4/10\n",
      "10/10 [==============================] - 1s 112ms/step - loss: 0.5942 - R2: -0.0486 - val_loss: 0.5709 - val_R2: -0.0656\n",
      "Epoch 5/10\n",
      "10/10 [==============================] - 2s 154ms/step - loss: 0.5927 - R2: -0.0743 - val_loss: 0.5734 - val_R2: -0.1317\n",
      "Epoch 6/10\n",
      "10/10 [==============================] - 1s 105ms/step - loss: 0.5839 - R2: -0.1039 - val_loss: 0.5684 - val_R2: -0.0888\n",
      "Epoch 7/10\n",
      "10/10 [==============================] - 1s 111ms/step - loss: 0.6071 - R2: -0.0522 - val_loss: 0.5680 - val_R2: -0.1001\n",
      "Epoch 8/10\n",
      "10/10 [==============================] - 1s 103ms/step - loss: 0.5857 - R2: -0.0596 - val_loss: 0.5731 - val_R2: -0.1831\n",
      "Epoch 9/10\n",
      "10/10 [==============================] - 1s 113ms/step - loss: 0.5932 - R2: -0.1223 - val_loss: 0.5712 - val_R2: -0.1828\n",
      "Epoch 10/10\n",
      "10/10 [==============================] - 1s 111ms/step - loss: 0.5970 - R2: -0.0847 - val_loss: 0.5643 - val_R2: -0.0695\n",
      "-----------------------------------------------------------------------\n",
      "Epoch 1/10\n",
      "10/10 [==============================] - 2s 150ms/step - loss: 0.6043 - R2: -0.0428 - val_loss: 0.5865 - val_R2: -0.0728\n",
      "Epoch 2/10\n",
      "10/10 [==============================] - 1s 112ms/step - loss: 0.5972 - R2: -0.0334 - val_loss: 0.5868 - val_R2: -0.1130\n",
      "Epoch 3/10\n",
      "10/10 [==============================] - 1s 122ms/step - loss: 0.5995 - R2: -0.0546 - val_loss: 0.5681 - val_R2: -0.0355\n",
      "Epoch 4/10\n",
      "10/10 [==============================] - 1s 98ms/step - loss: 0.6000 - R2: -0.0500 - val_loss: 0.5698 - val_R2: -0.1164\n",
      "Epoch 5/10\n",
      "10/10 [==============================] - 1s 100ms/step - loss: 0.6022 - R2: -0.1582 - val_loss: 0.5681 - val_R2: -0.1186\n",
      "Epoch 6/10\n",
      "10/10 [==============================] - 1s 107ms/step - loss: 0.5877 - R2: -0.0557 - val_loss: 0.5649 - val_R2: -0.0680\n",
      "Epoch 7/10\n",
      "10/10 [==============================] - 1s 101ms/step - loss: 0.5925 - R2: -0.0902 - val_loss: 0.5603 - val_R2: -0.0174\n",
      "Epoch 8/10\n",
      "10/10 [==============================] - 1s 97ms/step - loss: 0.5864 - R2: -0.0220 - val_loss: 0.5615 - val_R2: -0.0558\n",
      "Epoch 9/10\n",
      "10/10 [==============================] - 1s 105ms/step - loss: 0.5925 - R2: -0.0903 - val_loss: 0.5617 - val_R2: -0.0592\n",
      "Epoch 10/10\n",
      "10/10 [==============================] - 1s 100ms/step - loss: 0.5855 - R2: -0.0455 - val_loss: 0.5612 - val_R2: -0.0705\n",
      "-----------------------------------------------------------------------\n",
      "Epoch 1/10\n",
      "10/10 [==============================] - 1s 145ms/step - loss: 0.6146 - R2: -0.0348 - val_loss: 0.6110 - val_R2: -0.2192\n",
      "Epoch 2/10\n",
      "10/10 [==============================] - 1s 105ms/step - loss: 0.5822 - R2: 0.0054 - val_loss: 0.6170 - val_R2: -0.3496\n",
      "Epoch 3/10\n",
      "10/10 [==============================] - 1s 109ms/step - loss: 0.5794 - R2: -0.0475 - val_loss: 0.5970 - val_R2: -0.2058\n",
      "Epoch 4/10\n",
      "10/10 [==============================] - 1s 106ms/step - loss: 0.5799 - R2: 0.0129 - val_loss: 0.6057 - val_R2: -0.2785\n",
      "Epoch 5/10\n",
      "10/10 [==============================] - 1s 116ms/step - loss: 0.5670 - R2: -0.0250 - val_loss: 0.5947 - val_R2: -0.2375\n",
      "Epoch 6/10\n",
      "10/10 [==============================] - 1s 91ms/step - loss: 0.5678 - R2: -0.0385 - val_loss: 0.6071 - val_R2: -0.3339\n",
      "Epoch 7/10\n",
      "10/10 [==============================] - 1s 135ms/step - loss: 0.5672 - R2: -0.0389 - val_loss: 0.6038 - val_R2: -0.3189\n",
      "Epoch 8/10\n",
      "10/10 [==============================] - 1s 142ms/step - loss: 0.5617 - R2: -0.0300 - val_loss: 0.6015 - val_R2: -0.2933\n",
      "Epoch 9/10\n",
      "10/10 [==============================] - 1s 101ms/step - loss: 0.5637 - R2: 3.1685e-04 - val_loss: 0.6045 - val_R2: -0.3174\n",
      "Epoch 10/10\n",
      "10/10 [==============================] - 1s 104ms/step - loss: 0.5600 - R2: -0.0388 - val_loss: 0.5999 - val_R2: -0.2960\n",
      "-----------------------------------------------------------------------\n",
      "Epoch 1/10\n",
      "10/10 [==============================] - 2s 157ms/step - loss: 0.6147 - R2: -0.0211 - val_loss: 0.5821 - val_R2: -0.1166\n",
      "Epoch 2/10\n",
      "10/10 [==============================] - 1s 107ms/step - loss: 0.6092 - R2: -0.0710 - val_loss: 0.5804 - val_R2: -0.1473\n",
      "Epoch 3/10\n",
      "10/10 [==============================] - 1s 118ms/step - loss: 0.5595 - R2: -0.0389 - val_loss: 0.5800 - val_R2: -0.2496\n",
      "Epoch 4/10\n",
      "10/10 [==============================] - 1s 94ms/step - loss: 0.5721 - R2: -0.0985 - val_loss: 0.5525 - val_R2: -0.1042\n",
      "Epoch 5/10\n",
      "10/10 [==============================] - 1s 90ms/step - loss: 0.5638 - R2: -0.0775 - val_loss: 0.5505 - val_R2: -0.0864\n",
      "Epoch 6/10\n",
      "10/10 [==============================] - 1s 106ms/step - loss: 0.5849 - R2: -0.0692 - val_loss: 0.5550 - val_R2: -0.1623\n",
      "Epoch 7/10\n",
      "10/10 [==============================] - 1s 97ms/step - loss: 0.5719 - R2: -0.1506 - val_loss: 0.5583 - val_R2: -0.1703\n",
      "Epoch 8/10\n",
      "10/10 [==============================] - 1s 90ms/step - loss: 0.5782 - R2: -0.0907 - val_loss: 0.5580 - val_R2: -0.1563\n",
      "Epoch 9/10\n",
      "10/10 [==============================] - 1s 82ms/step - loss: 0.5664 - R2: -0.1140 - val_loss: 0.5652 - val_R2: -0.2195\n",
      "Epoch 10/10\n",
      "10/10 [==============================] - 1s 101ms/step - loss: 0.5590 - R2: -0.1227 - val_loss: 0.5546 - val_R2: -0.1489\n",
      "-----------------------------------------------------------------------\n",
      "Epoch 1/10\n",
      "10/10 [==============================] - 1s 132ms/step - loss: 0.6206 - R2: -0.0695 - val_loss: 0.5825 - val_R2: -0.0247\n",
      "Epoch 2/10\n",
      "10/10 [==============================] - 1s 86ms/step - loss: 0.6161 - R2: -0.0127 - val_loss: 0.5726 - val_R2: -0.0027\n",
      "Epoch 3/10\n",
      "10/10 [==============================] - 1s 101ms/step - loss: 0.5952 - R2: -0.0611 - val_loss: 0.5715 - val_R2: -0.1394\n",
      "Epoch 4/10\n",
      "10/10 [==============================] - 1s 102ms/step - loss: 0.5936 - R2: -0.1400 - val_loss: 0.5905 - val_R2: -0.3969\n",
      "Epoch 5/10\n",
      "10/10 [==============================] - 1s 88ms/step - loss: 0.6103 - R2: -0.1823 - val_loss: 0.5767 - val_R2: -0.1414\n",
      "Epoch 6/10\n",
      "10/10 [==============================] - 1s 87ms/step - loss: 0.5944 - R2: -0.0829 - val_loss: 0.5817 - val_R2: -0.2075\n",
      "Epoch 7/10\n",
      "10/10 [==============================] - 1s 86ms/step - loss: 0.5758 - R2: -0.1908 - val_loss: 0.5852 - val_R2: -0.3550\n",
      "Epoch 8/10\n",
      "10/10 [==============================] - 1s 94ms/step - loss: 0.5859 - R2: -0.1205 - val_loss: 0.5689 - val_R2: -0.1477\n",
      "Epoch 9/10\n",
      "10/10 [==============================] - 1s 91ms/step - loss: 0.5816 - R2: -0.0833 - val_loss: 0.5782 - val_R2: -0.2802\n",
      "Epoch 10/10\n",
      "10/10 [==============================] - 1s 91ms/step - loss: 0.5795 - R2: -0.1594 - val_loss: 0.5735 - val_R2: -0.2186\n",
      "-----------------------------------------------------------------------\n",
      "Epoch 1/10\n",
      "10/10 [==============================] - 2s 166ms/step - loss: 0.6275 - R2: -0.0375 - val_loss: 0.5821 - val_R2: -0.0312\n",
      "Epoch 2/10\n",
      "10/10 [==============================] - 1s 124ms/step - loss: 0.5999 - R2: -0.0298 - val_loss: 0.5713 - val_R2: -0.0776\n",
      "Epoch 3/10\n",
      "10/10 [==============================] - 1s 98ms/step - loss: 0.6080 - R2: -0.1211 - val_loss: 0.5805 - val_R2: -0.1803\n",
      "Epoch 4/10\n",
      "10/10 [==============================] - 1s 92ms/step - loss: 0.6037 - R2: -0.1288 - val_loss: 0.5723 - val_R2: -0.1087\n",
      "Epoch 5/10\n",
      "10/10 [==============================] - 1s 87ms/step - loss: 0.6000 - R2: -0.0804 - val_loss: 0.5689 - val_R2: -0.0718\n",
      "Epoch 6/10\n",
      "10/10 [==============================] - 1s 109ms/step - loss: 0.5901 - R2: -0.0394 - val_loss: 0.5694 - val_R2: -0.1086\n",
      "Epoch 7/10\n",
      "10/10 [==============================] - 1s 149ms/step - loss: 0.5948 - R2: -0.1122 - val_loss: 0.5796 - val_R2: -0.2025\n",
      "Epoch 8/10\n",
      "10/10 [==============================] - 1s 118ms/step - loss: 0.6053 - R2: -0.1507 - val_loss: 0.5743 - val_R2: -0.1349\n",
      "Epoch 9/10\n",
      "10/10 [==============================] - 1s 106ms/step - loss: 0.5826 - R2: -0.0856 - val_loss: 0.5744 - val_R2: -0.1876\n",
      "Epoch 10/10\n",
      "10/10 [==============================] - 1s 102ms/step - loss: 0.5999 - R2: -0.1807 - val_loss: 0.5775 - val_R2: -0.1811\n"
     ]
    }
   ],
   "source": [
    "history_1 = simple_lstm_model_1.fit(train_univariate_1, epochs=EPOCHS,\n",
    "                      steps_per_epoch=EVALUATION_INTERVAL,\n",
    "                      validation_data=val_univariate_1, validation_steps=50)\n",
    "print(\"-----------------------------------------------------------------------\")\n",
    "history_2 = simple_lstm_model_2.fit(train_univariate_2, epochs=EPOCHS,\n",
    "                      steps_per_epoch=EVALUATION_INTERVAL,\n",
    "                      validation_data=val_univariate_2, validation_steps=50)\n",
    "print(\"-----------------------------------------------------------------------\")\n",
    "history_3 = simple_lstm_model_3.fit(train_univariate_3, epochs=EPOCHS,\n",
    "                      steps_per_epoch=EVALUATION_INTERVAL,\n",
    "                      validation_data=val_univariate_3, validation_steps=50)\n",
    "print(\"-----------------------------------------------------------------------\")\n",
    "history_4 = simple_lstm_model_4.fit(train_univariate_4, epochs=EPOCHS,\n",
    "                      steps_per_epoch=EVALUATION_INTERVAL,\n",
    "                      validation_data=val_univariate_4, validation_steps=50)\n",
    "print(\"-----------------------------------------------------------------------\")\n",
    "history_5 = simple_lstm_model_5.fit(train_univariate_5, epochs=EPOCHS,\n",
    "                      steps_per_epoch=EVALUATION_INTERVAL,\n",
    "                      validation_data=val_univariate_5, validation_steps=50)\n",
    "print(\"-----------------------------------------------------------------------\")\n",
    "history_6 = simple_lstm_model_6.fit(train_univariate_6, epochs=EPOCHS,\n",
    "                      steps_per_epoch=EVALUATION_INTERVAL,\n",
    "                      validation_data=val_univariate_6, validation_steps=50)\n",
    "print(\"-----------------------------------------------------------------------\")\n",
    "history_7 = simple_lstm_model_7.fit(train_univariate_7, epochs=EPOCHS,\n",
    "                      steps_per_epoch=EVALUATION_INTERVAL,\n",
    "                      validation_data=val_univariate_7, validation_steps=50)"
   ]
  },
  {
   "cell_type": "code",
   "execution_count": 733,
   "metadata": {
    "collapsed": true
   },
   "outputs": [
    {
     "data": {
      "image/png": "[encoded data removed]",
      "text/plain": [
       "<Figure size 432x288 with 1 Axes>"
      ]
     },
     "metadata": {
      "needs_background": "light"
     },
     "output_type": "display_data"
    }
   ],
   "source": [
    "plt.plot(history_2.history[\"loss\"], color=\"b\", label=\"Training Loss\")\n",
    "plt.plot(history_2.history[\"val_loss\"], color=\"r\", label=\"Validation Loss\")\n",
    "plt.ylabel(\"loss\")\n",
    "plt.xlabel(\"Epochs\")\n",
    "plt.legend()\n",
    "plt.show()"
   ]
  },
  {
   "cell_type": "code",
   "execution_count": 711,
   "metadata": {
    "collapsed": true
   },
   "outputs": [
    {
     "data": {
      "image/png": "[encoded data removed]",
      "text/plain": [
       "<Figure size 432x288 with 1 Axes>"
      ]
     },
     "metadata": {
      "needs_background": "light"
     },
     "output_type": "display_data"
    }
   ],
   "source": [
    "plt.plot(history.history[\"R2\"], color=\"b\", label = \"Training R2\")\n",
    "plt.plot(history.history[\"val_R2\"], color=\"r\", label =\"Validation R2\")\n",
    "plt.ylabel(\"R2\")\n",
    "plt.xlabel(\"Epochs\")\n",
    "plt.legend()\n",
    "plt.show()"
   ]
  },
  {
   "cell_type": "code",
   "execution_count": 868,
   "metadata": {},
   "outputs": [],
   "source": [
    "# prediction on train values\n",
    "lstm_pred_I1 = simple_lstm_model_1.predict(X_train_I1)\n",
    "lstm_pred_I2 = simple_lstm_model_2.predict(X_train_I2)\n",
    "lstm_pred_I3 = simple_lstm_model_3.predict(X_train_I3)\n",
    "lstm_pred_I4 = simple_lstm_model_4.predict(X_train_I4)\n",
    "lstm_pred_I5 = simple_lstm_model_5.predict(X_train_I5)\n",
    "lstm_pred_I6 = simple_lstm_model_6.predict(X_train_I6)\n",
    "lstm_pred_I7 = simple_lstm_model_7.predict(X_train_I7)"
   ]
  },
  {
   "cell_type": "code",
   "execution_count": 903,
   "metadata": {},
   "outputs": [],
   "source": [
    "# prediction on validation values\n",
    "lstm_val_pred_I1 = simple_lstm_model_1.predict(X_val_I1)\n",
    "lstm_val_pred_I2 = simple_lstm_model_2.predict(X_val_I2)\n",
    "lstm_val_pred_I3 = simple_lstm_model_3.predict(X_val_I3)\n",
    "lstm_val_pred_I4 = simple_lstm_model_4.predict(X_val_I4)\n",
    "lstm_val_pred_I5 = simple_lstm_model_5.predict(X_val_I5)\n",
    "lstm_val_pred_I6 = simple_lstm_model_6.predict(X_val_I6)\n",
    "lstm_val_pred_I7 = simple_lstm_model_7.predict(X_val_I7)"
   ]
  },
  {
   "cell_type": "code",
   "execution_count": 951,
   "metadata": {},
   "outputs": [],
   "source": [
    "# prediction on test values\n",
    "lstm_test_pred_I1 = simple_lstm_model_1.predict(X_test_I1)\n",
    "lstm_test_pred_I2 = simple_lstm_model_2.predict(X_test_I2)\n",
    "lstm_test_pred_I3 = simple_lstm_model_3.predict(X_test_I3)\n",
    "lstm_test_pred_I4 = simple_lstm_model_4.predict(X_test_I4)\n",
    "lstm_test_pred_I5 = simple_lstm_model_5.predict(X_test_I5)\n",
    "lstm_test_pred_I6 = simple_lstm_model_6.predict(X_test_I6)\n",
    "lstm_test_pred_I7 = simple_lstm_model_7.predict(X_test_I7)"
   ]
  },
  {
   "cell_type": "code",
   "execution_count": 917,
   "metadata": {},
   "outputs": [],
   "source": [
    "d_train = {\"lstm_pred_I1\":lstm_pred_I1[:,0], \"lstm_pred_I2\":lstm_pred_I2[:,0], \"lstm_pred_I3\":lstm_pred_I3[:,0],\n",
    "    \"lstm_pred_I4\":lstm_pred_I4[:,0], \"lstm_pred_I5\":lstm_pred_I5[:,0], \"lstm_pred_I6\":lstm_pred_I6[:,0], \n",
    "     \"lstm_pred_I7\":lstm_pred_I7[:,0]}\n",
    "lstm_I_train = pd.DataFrame(data=d_train, index=X_train.index)"
   ]
  },
  {
   "cell_type": "code",
   "execution_count": 972,
   "metadata": {},
   "outputs": [],
   "source": [
    "lstm_wI_train = pd.concat([X_train.iloc[:,0:7], lstm_I_train], axis=1)"
   ]
  },
  {
   "cell_type": "code",
   "execution_count": 959,
   "metadata": {},
   "outputs": [],
   "source": [
    "d_val = {\"lstm_pred_I1\":lstm_val_pred_I1[:,0], \"lstm_pred_I2\":lstm_val_pred_I2[:,0], \"lstm_pred_I3\":lstm_val_pred_I3[:,0],\n",
    "    \"lstm_pred_I4\":lstm_val_pred_I4[:,0], \"lstm_pred_I5\":lstm_val_pred_I5[:,0], \"lstm_pred_I6\":lstm_val_pred_I6[:,0], \n",
    "     \"lstm_pred_I7\":lstm_val_pred_I7[:,0]}\n",
    "lstm_I_val = pd.DataFrame(data=d_val, index=X_val.index)"
   ]
  },
  {
   "cell_type": "code",
   "execution_count": 973,
   "metadata": {},
   "outputs": [],
   "source": [
    "lstm_wI_val = pd.concat([X_val.iloc[:,0:7], lstm_I_val], axis=1)"
   ]
  },
  {
   "cell_type": "code",
   "execution_count": 956,
   "metadata": {},
   "outputs": [],
   "source": [
    "d_test = {\"lstm_pred_I1\":lstm_test_pred_I1[:,0], \"lstm_pred_I2\":lstm_test_pred_I2[:,0], \"lstm_pred_I3\":lstm_test_pred_I3[:,0],\n",
    "    \"lstm_pred_I4\":lstm_test_pred_I4[:,0], \"lstm_pred_I5\":lstm_test_pred_I5[:,0], \"lstm_pred_I6\":lstm_test_pred_I6[:,0], \n",
    "     \"lstm_pred_I7\":lstm_test_pred_I7[:,0]}\n",
    "lstm_I_test = pd.DataFrame(data=d_test, index=test.index)"
   ]
  },
  {
   "cell_type": "code",
   "execution_count": 974,
   "metadata": {},
   "outputs": [],
   "source": [
    "lstm_wI_test = pd.concat([test.iloc[:,0:7], lstm_I_test], axis=1)"
   ]
  },
  {
   "cell_type": "code",
   "execution_count": 908,
   "metadata": {},
   "outputs": [],
   "source": [
    "# Let's train an adaboost on the lstm predictions"
   ]
  },
  {
   "cell_type": "code",
   "execution_count": 975,
   "metadata": {},
   "outputs": [
    {
     "data": {
      "text/plain": [
       "AdaBoostRegressor(base_estimator=None, learning_rate=1.0, loss='linear',\n",
       "                  n_estimators=50, random_state=None)"
      ]
     },
     "execution_count": 975,
     "metadata": {},
     "output_type": "execute_result"
    }
   ],
   "source": [
    "adaboost = AdaBoostRegressor()\n",
    "adaboost.fit(lstm_wI_train, y_train.smoothed)"
   ]
  },
  {
   "cell_type": "code",
   "execution_count": 976,
   "metadata": {},
   "outputs": [],
   "source": [
    "ada_train_pred = adaboost.predict(lstm_wI_train)\n",
    "ada_val_pred = adaboost.predict(lstm_wI_val)\n",
    "ada_test_pred = adaboost.predict(lstm_wI_test)"
   ]
  },
  {
   "cell_type": "code",
   "execution_count": 977,
   "metadata": {},
   "outputs": [],
   "source": [
    "lstm_wI_train[\"pred\"] = ada_train_pred\n",
    "lstm_wI_val[\"pred\"] = ada_val_pred\n",
    "lstm_wI_test[\"pred\"] = ada_test_pred"
   ]
  },
  {
   "cell_type": "code",
   "execution_count": 978,
   "metadata": {},
   "outputs": [],
   "source": [
    "lstm_wI_train[\"fpred\"] = np.sign(lstm_wI_train[\"pred\"])*np.exp(-1/abs(lstm_wI_train[\"pred\"]))\n",
    "lstm_wI_val[\"fpred\"] = np.sign(lstm_wI_val[\"pred\"])*np.exp(-1/abs(lstm_wI_val[\"pred\"]))\n",
    "lstm_wI_test[\"fpred\"] = np.sign(lstm_wI_test[\"pred\"])*np.exp(-1/abs(lstm_wI_test[\"pred\"]))"
   ]
  },
  {
   "cell_type": "code",
   "execution_count": 935,
   "metadata": {},
   "outputs": [
    {
     "name": "stdout",
     "output_type": "stream",
     "text": [
      "0.6030698934483312\n",
      "0.5862140590452486\n"
     ]
    }
   ],
   "source": [
    "print(mean_absolute_error(y_train.smoothed,lstm_wI_train[\"fpred\"]))\n",
    "print(mean_absolute_error(y_val.smoothed,lstm_wI_val[\"fpred\"]))"
   ]
  },
  {
   "cell_type": "markdown",
   "metadata": {},
   "source": [
    "Submission of the lstm/adaboost model on raw data"
   ]
  },
  {
   "cell_type": "code",
   "execution_count": 981,
   "metadata": {},
   "outputs": [],
   "source": [
    "lstm_wI_test.fpred.to_csv(\"submission_lstm_adaboost\")"
   ]
  },
  {
   "cell_type": "markdown",
   "metadata": {},
   "source": [
    "## Feature Engineering "
   ]
  },
  {
   "cell_type": "code",
   "execution_count": 312,
   "metadata": {},
   "outputs": [],
   "source": [
    "# Daily Rate of Change for each strategy \n",
    "def roc_I(dataset):\n",
    "    for i in range(1,8):\n",
    "        for j in range(20): \n",
    "            dataset[\"I_{}_roc_{}\".format(i,j+1)] = np.log(dataset[\"I_{}_lag_{}\".\n",
    "                                                                  format(i,j)]/dataset[\"I_{}_lag_{}\".format(i,j+1)])"
   ]
  },
  {
   "cell_type": "code",
   "execution_count": 309,
   "metadata": {},
   "outputs": [],
   "source": [
    "# Daily Rate of Change for each macro feature \n",
    "def roc_X(dataset):    \n",
    "    for i in range(1,4):\n",
    "        for j in range(20):\n",
    "            dataset[\"X_{}_roc_{}\".format(i,j+1)] = np.log(dataset[\"X_{}_lag_{}\".\n",
    "                                                                  format(i,j)]/dataset[\"X_{}_lag_{}\".format(i,j+1)])"
   ]
  },
  {
   "cell_type": "code",
   "execution_count": null,
   "metadata": {},
   "outputs": [],
   "source": [
    "# list of indicators to append to the dataset\n",
    "indicators = [roc_I, roc_X]"
   ]
  },
  {
   "cell_type": "code",
   "execution_count": 327,
   "metadata": {},
   "outputs": [],
   "source": [
    "def engineering(dataset, indicators):    \n",
    "    for indicator in indicators:\n",
    "        indicator(dataset)"
   ]
  },
  {
   "cell_type": "code",
   "execution_count": 328,
   "metadata": {},
   "outputs": [],
   "source": [
    "engineering(data, indicators)"
   ]
  }
 ],
 "metadata": {
  "kernelspec": {
   "display_name": "Python 3",
   "language": "python",
   "name": "python3"
  },
  "language_info": {
   "codemirror_mode": {
    "name": "ipython",
    "version": 3
   },
   "file_extension": ".py",
   "mimetype": "text/x-python",
   "name": "python",
   "nbconvert_exporter": "python",
   "pygments_lexer": "ipython3",
   "version": "3.7.6"
  },
  "toc": {
   "base_numbering": 1,
   "nav_menu": {},
   "number_sections": true,
   "sideBar": true,
   "skip_h1_title": false,
   "title_cell": "Table of Contents",
   "title_sidebar": "Contents",
   "toc_cell": false,
   "toc_position": {},
   "toc_section_display": true,
   "toc_window_display": false
  }
 },
 "nbformat": 4,
 "nbformat_minor": 4
}
